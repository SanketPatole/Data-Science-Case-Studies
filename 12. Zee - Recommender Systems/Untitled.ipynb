{
 "cells": [
  {
   "cell_type": "markdown",
   "id": "5448eb58-3e59-4e01-a4f6-2a3ae96a9b53",
   "metadata": {},
   "source": [
    "# **Q12. Zee Recommender Systems**\n",
    "\n",
    "## **Problem Statement:**\n",
    "### 1. Create a Recommender System to show personalized movie recommendations based on ratings given by a user and other users similar to them in order to improve user experience.\n"
   ]
  },
  {
   "cell_type": "code",
   "execution_count": 1,
   "id": "b6b3446d-cc87-44ef-8e78-9a904c7e1ef1",
   "metadata": {},
   "outputs": [],
   "source": [
    "import re\n",
    "import numpy as np\n",
    "import pandas as pd\n",
    "import matplotlib.pyplot as plt\n",
    "import seaborn as sns\n",
    "import scipy.stats as stats\n",
    "from scipy.sparse import csr_matrix\n",
    "from sklearn.preprocessing import MinMaxScaler, StandardScaler, LabelEncoder, MultiLabelBinarizer\n",
    "from sklearn.cluster import KMeans\n",
    "from sklearn.metrics.pairwise import cosine_similarity\n",
    "from sklearn.neighbors import NearestNeighbors\n",
    "from sklearn.manifold import TSNE\n",
    "import statsmodels.api as sm\n",
    "from statsmodels.tsa.stattools import adfuller\n",
    "from statsmodels.tsa.seasonal import seasonal_decompose\n",
    "from statsmodels.tsa.stattools import acf, pacf\n",
    "from statsmodels.graphics.tsaplots import plot_acf, plot_pacf\n",
    "from statsmodels.tsa.statespace.sarimax import SARIMAX\n",
    "from sklearn.metrics import (\n",
    "    mean_squared_error as mse,\n",
    "    mean_absolute_error as mae, \n",
    "    mean_absolute_percentage_error as mape\n",
    ")\n",
    "from surprise import Dataset, Reader, SVD, NMF\n",
    "from surprise.model_selection import train_test_split\n",
    "import cmfrec\n",
    "import itertools\n",
    "import pylab\n",
    "import missingno as msno\n",
    "import warnings\n",
    "#from fbprophet import Prophet\n",
    "warnings.filterwarnings(\"ignore\")"
   ]
  },
  {
   "cell_type": "markdown",
   "id": "b47be7de-21ef-4951-948f-5ecdd02a5b5c",
   "metadata": {},
   "source": [
    "***\n",
    "***\n",
    "## **1. Defining Helper Functions.**"
   ]
  },
  {
   "cell_type": "code",
   "execution_count": 2,
   "id": "05bc5387-73c9-4d60-a598-28e262278776",
   "metadata": {},
   "outputs": [],
   "source": [
    "def convert_to_best_type(df):\n",
    "    for column in df.columns:\n",
    "        try:\n",
    "            if np.any(df[column].apply(lambda x: '.' in str(x))):\n",
    "                df[column] = df[column].astype('float64')\n",
    "            else:\n",
    "                if np.any(df[column].apply(lambda x: str(x).lower()=='true' or str(x).lower()=='false')):\n",
    "                    df[column] = df[column].astype(bool)\n",
    "                elif len(df[column].unique())<10:\n",
    "                    df[column] = pd.Categorical(df[column])\n",
    "                else:\n",
    "                    df[column] = df[column].astype('int64')\n",
    "        except:\n",
    "            if np.any(df[column].apply(lambda x: str(x).lower()=='true' or str(x).lower()=='false')):\n",
    "                df[column] = df[column].astype(bool)\n",
    "            elif np.any(df[column].apply(lambda x: ':' in str(x))):\n",
    "                df[column] = pd.to_datetime(df[column])\n",
    "            elif len(df[column].unique())<10:\n",
    "                df[column] = pd.Categorical(df[column])\n",
    "            else:\n",
    "                df[column] = df[column].astype('string')\n",
    "    return df"
   ]
  },
  {
   "cell_type": "code",
   "execution_count": 3,
   "id": "1c7d372d-c528-45c0-a944-622cde7e937f",
   "metadata": {},
   "outputs": [],
   "source": [
    "def remove_outlier(df_in, col_name):\n",
    "    q1 = df_in[col_name].quantile(0.25)\n",
    "    q3 = df_in[col_name].quantile(0.75)\n",
    "    iqr = q3-q1\n",
    "    fence_low  = q1-1.5*iqr\n",
    "    fence_high = q3+1.5*iqr\n",
    "    df_out = df_in.loc[(df_in[col_name] > fence_low) & (df_in[col_name] < fence_high)]\n",
    "    outlier_fraction = (len(df_in)-len(df_out))/len(df_in)\n",
    "    if outlier_fraction > 0.0:\n",
    "        fig, axes = plt.subplots(1, 1, sharex=True, figsize=(18,6))\n",
    "        sns.boxplot(data=df_in, y=col_name)\n",
    "        if outlier_fraction <= 0.10:\n",
    "            fig.suptitle(f\"Outliers constitute {round(outlier_fraction*100, 2)}% of data for column '{col_name}'. Hence removing outliers.\", fontsize=20, color=\"green\")\n",
    "            plt.show()\n",
    "            return df_out\n",
    "        else:\n",
    "            fig.suptitle(f\"Outliers constitute significant amount of data ({round(outlier_fraction*100, 2)}%) for column '{col_name}'. Hence not removing outliers..\", fontsize=20, color=\"green\")\n",
    "            plt.show()\n",
    "            return df_in\n",
    "    else:\n",
    "        return df_in"
   ]
  },
  {
   "cell_type": "code",
   "execution_count": 4,
   "id": "ccdd6b92-9247-4fe5-94b1-769af32ffaf8",
   "metadata": {},
   "outputs": [],
   "source": [
    "df_movies = pd.read_csv('zee-movies.dat', encoding='ISO-8859-1', delimiter='::')\n",
    "df_users = pd.read_csv('zee-users.dat', encoding='ISO-8859-1', delimiter='::')\n",
    "df_ratings = pd.read_csv('zee-ratings.dat', encoding='ISO-8859-1', delimiter='::')"
   ]
  },
  {
   "cell_type": "markdown",
   "id": "9f3440ae-935f-4baa-98a9-0c88f6e8360e",
   "metadata": {},
   "source": [
    "***\n",
    "***\n",
    "## **2. Analyzing Basic Metrics.**"
   ]
  },
  {
   "cell_type": "code",
   "execution_count": 54,
   "id": "5475eb7b-1565-4101-baca-bd6c4f72d0b3",
   "metadata": {},
   "outputs": [
    {
     "name": "stdout",
     "output_type": "stream",
     "text": [
      "Shape of Movies Dataframe: (3883, 21)\n",
      "Shape of Users Dataframe: (6040, 5)\n",
      "Shape of Ratings Dataframe: (1000209, 4)\n"
     ]
    }
   ],
   "source": [
    "print(f\"Shape of Movies Dataframe: {df_movies.shape}\")\n",
    "print(f\"Shape of Users Dataframe: {df_users.shape}\")\n",
    "print(f\"Shape of Ratings Dataframe: {df_ratings.shape}\")"
   ]
  },
  {
   "cell_type": "markdown",
   "id": "31856311-7dd3-4e10-a342-76d4a99d4d35",
   "metadata": {},
   "source": [
    "***\n",
    "***\n",
    "## **3. Feature Engineering - Create new fields.**"
   ]
  },
  {
   "cell_type": "code",
   "execution_count": 5,
   "id": "f549f1d0-b72d-4035-acff-bfd8676f245c",
   "metadata": {},
   "outputs": [
    {
     "data": {
      "text/html": [
       "<div>\n",
       "<style scoped>\n",
       "    .dataframe tbody tr th:only-of-type {\n",
       "        vertical-align: middle;\n",
       "    }\n",
       "\n",
       "    .dataframe tbody tr th {\n",
       "        vertical-align: top;\n",
       "    }\n",
       "\n",
       "    .dataframe thead th {\n",
       "        text-align: right;\n",
       "    }\n",
       "</style>\n",
       "<table border=\"1\" class=\"dataframe\">\n",
       "  <thead>\n",
       "    <tr style=\"text-align: right;\">\n",
       "      <th></th>\n",
       "      <th>Movie ID</th>\n",
       "      <th>Title</th>\n",
       "      <th>Genres</th>\n",
       "    </tr>\n",
       "  </thead>\n",
       "  <tbody>\n",
       "    <tr>\n",
       "      <th>0</th>\n",
       "      <td>1</td>\n",
       "      <td>Toy Story (1995)</td>\n",
       "      <td>Animation|Children's|Comedy</td>\n",
       "    </tr>\n",
       "    <tr>\n",
       "      <th>1</th>\n",
       "      <td>2</td>\n",
       "      <td>Jumanji (1995)</td>\n",
       "      <td>Adventure|Children's|Fantasy</td>\n",
       "    </tr>\n",
       "    <tr>\n",
       "      <th>2</th>\n",
       "      <td>3</td>\n",
       "      <td>Grumpier Old Men (1995)</td>\n",
       "      <td>Comedy|Romance</td>\n",
       "    </tr>\n",
       "    <tr>\n",
       "      <th>3</th>\n",
       "      <td>4</td>\n",
       "      <td>Waiting to Exhale (1995)</td>\n",
       "      <td>Comedy|Drama</td>\n",
       "    </tr>\n",
       "    <tr>\n",
       "      <th>4</th>\n",
       "      <td>5</td>\n",
       "      <td>Father of the Bride Part II (1995)</td>\n",
       "      <td>Comedy</td>\n",
       "    </tr>\n",
       "  </tbody>\n",
       "</table>\n",
       "</div>"
      ],
      "text/plain": [
       "   Movie ID                               Title                        Genres\n",
       "0         1                    Toy Story (1995)   Animation|Children's|Comedy\n",
       "1         2                      Jumanji (1995)  Adventure|Children's|Fantasy\n",
       "2         3             Grumpier Old Men (1995)                Comedy|Romance\n",
       "3         4            Waiting to Exhale (1995)                  Comedy|Drama\n",
       "4         5  Father of the Bride Part II (1995)                        Comedy"
      ]
     },
     "execution_count": 5,
     "metadata": {},
     "output_type": "execute_result"
    }
   ],
   "source": [
    "df_movies.head()"
   ]
  },
  {
   "cell_type": "code",
   "execution_count": 6,
   "id": "32f2f341-bc8c-48a4-b2f0-57982b098d8a",
   "metadata": {},
   "outputs": [
    {
     "data": {
      "text/plain": [
       "Drama          1603\n",
       "Comedy         1200\n",
       "Action          503\n",
       "Thriller        492\n",
       "Romance         471\n",
       "Horror          343\n",
       "Adventure       283\n",
       "Sci-Fi          276\n",
       "Children's      251\n",
       "Crime           211\n",
       "War             143\n",
       "Documentary     127\n",
       "Musical         114\n",
       "Mystery         106\n",
       "Animation       105\n",
       "Fantasy          68\n",
       "Western          68\n",
       "Film-Noir        44\n",
       "Name: Genres, dtype: int64"
      ]
     },
     "execution_count": 6,
     "metadata": {},
     "output_type": "execute_result"
    }
   ],
   "source": [
    "df_movies['Genres'].str.split('|').explode().value_counts()"
   ]
  },
  {
   "cell_type": "code",
   "execution_count": 7,
   "id": "0f3cd61b-86f3-44aa-9eb6-c460b82cdf1d",
   "metadata": {},
   "outputs": [
    {
     "data": {
      "text/html": [
       "<div>\n",
       "<style scoped>\n",
       "    .dataframe tbody tr th:only-of-type {\n",
       "        vertical-align: middle;\n",
       "    }\n",
       "\n",
       "    .dataframe tbody tr th {\n",
       "        vertical-align: top;\n",
       "    }\n",
       "\n",
       "    .dataframe thead th {\n",
       "        text-align: right;\n",
       "    }\n",
       "</style>\n",
       "<table border=\"1\" class=\"dataframe\">\n",
       "  <thead>\n",
       "    <tr style=\"text-align: right;\">\n",
       "      <th></th>\n",
       "      <th>UserID</th>\n",
       "      <th>Gender</th>\n",
       "      <th>Age</th>\n",
       "      <th>Occupation</th>\n",
       "      <th>Zip-code</th>\n",
       "    </tr>\n",
       "  </thead>\n",
       "  <tbody>\n",
       "    <tr>\n",
       "      <th>0</th>\n",
       "      <td>1</td>\n",
       "      <td>F</td>\n",
       "      <td>1</td>\n",
       "      <td>10</td>\n",
       "      <td>48067</td>\n",
       "    </tr>\n",
       "    <tr>\n",
       "      <th>1</th>\n",
       "      <td>2</td>\n",
       "      <td>M</td>\n",
       "      <td>56</td>\n",
       "      <td>16</td>\n",
       "      <td>70072</td>\n",
       "    </tr>\n",
       "    <tr>\n",
       "      <th>2</th>\n",
       "      <td>3</td>\n",
       "      <td>M</td>\n",
       "      <td>25</td>\n",
       "      <td>15</td>\n",
       "      <td>55117</td>\n",
       "    </tr>\n",
       "    <tr>\n",
       "      <th>3</th>\n",
       "      <td>4</td>\n",
       "      <td>M</td>\n",
       "      <td>45</td>\n",
       "      <td>7</td>\n",
       "      <td>02460</td>\n",
       "    </tr>\n",
       "    <tr>\n",
       "      <th>4</th>\n",
       "      <td>5</td>\n",
       "      <td>M</td>\n",
       "      <td>25</td>\n",
       "      <td>20</td>\n",
       "      <td>55455</td>\n",
       "    </tr>\n",
       "  </tbody>\n",
       "</table>\n",
       "</div>"
      ],
      "text/plain": [
       "   UserID Gender  Age  Occupation Zip-code\n",
       "0       1      F    1          10    48067\n",
       "1       2      M   56          16    70072\n",
       "2       3      M   25          15    55117\n",
       "3       4      M   45           7    02460\n",
       "4       5      M   25          20    55455"
      ]
     },
     "execution_count": 7,
     "metadata": {},
     "output_type": "execute_result"
    }
   ],
   "source": [
    "df_users.head()"
   ]
  },
  {
   "cell_type": "code",
   "execution_count": 8,
   "id": "83cdf31d-e7f0-490b-9dc8-94b258b058c2",
   "metadata": {},
   "outputs": [],
   "source": [
    "occupation = {0: \"other\", 1: \"academic/educator\", 2: \"artist\", 3: \"clerical/admin\", 4: \"college/grad student\", 5: \"customer service\",\n",
    "6: \"doctor/health care\", 7: \"executive/managerial\", 8: \"farmer\", 9: \"homemaker\", 10: \"K-12 student\", 11: \"lawyer\", 12: \"programmer\",\n",
    "13: \"retired\", 14: \"sales/marketing\", 15: \"scientist\", 16: \"self-employed\", 17: \"technician/engineer\", 18: \"tradesman/craftsman\",\n",
    "19: \"unemployed\", 20: \"writer\"}\n",
    "df_users['Occupation'] = df_users['Occupation'].apply(lambda x: occupation[int(x)])"
   ]
  },
  {
   "cell_type": "code",
   "execution_count": 9,
   "id": "f4f0bc36-e2af-4d58-ae1c-74288cd74479",
   "metadata": {},
   "outputs": [
    {
     "data": {
      "text/html": [
       "<div>\n",
       "<style scoped>\n",
       "    .dataframe tbody tr th:only-of-type {\n",
       "        vertical-align: middle;\n",
       "    }\n",
       "\n",
       "    .dataframe tbody tr th {\n",
       "        vertical-align: top;\n",
       "    }\n",
       "\n",
       "    .dataframe thead th {\n",
       "        text-align: right;\n",
       "    }\n",
       "</style>\n",
       "<table border=\"1\" class=\"dataframe\">\n",
       "  <thead>\n",
       "    <tr style=\"text-align: right;\">\n",
       "      <th></th>\n",
       "      <th>UserID</th>\n",
       "      <th>MovieID</th>\n",
       "      <th>Rating</th>\n",
       "      <th>Timestamp</th>\n",
       "    </tr>\n",
       "  </thead>\n",
       "  <tbody>\n",
       "    <tr>\n",
       "      <th>0</th>\n",
       "      <td>1</td>\n",
       "      <td>1193</td>\n",
       "      <td>5</td>\n",
       "      <td>978300760</td>\n",
       "    </tr>\n",
       "    <tr>\n",
       "      <th>1</th>\n",
       "      <td>1</td>\n",
       "      <td>661</td>\n",
       "      <td>3</td>\n",
       "      <td>978302109</td>\n",
       "    </tr>\n",
       "    <tr>\n",
       "      <th>2</th>\n",
       "      <td>1</td>\n",
       "      <td>914</td>\n",
       "      <td>3</td>\n",
       "      <td>978301968</td>\n",
       "    </tr>\n",
       "    <tr>\n",
       "      <th>3</th>\n",
       "      <td>1</td>\n",
       "      <td>3408</td>\n",
       "      <td>4</td>\n",
       "      <td>978300275</td>\n",
       "    </tr>\n",
       "    <tr>\n",
       "      <th>4</th>\n",
       "      <td>1</td>\n",
       "      <td>2355</td>\n",
       "      <td>5</td>\n",
       "      <td>978824291</td>\n",
       "    </tr>\n",
       "  </tbody>\n",
       "</table>\n",
       "</div>"
      ],
      "text/plain": [
       "   UserID  MovieID  Rating  Timestamp\n",
       "0       1     1193       5  978300760\n",
       "1       1      661       3  978302109\n",
       "2       1      914       3  978301968\n",
       "3       1     3408       4  978300275\n",
       "4       1     2355       5  978824291"
      ]
     },
     "execution_count": 9,
     "metadata": {},
     "output_type": "execute_result"
    }
   ],
   "source": [
    "df_ratings.head()"
   ]
  },
  {
   "cell_type": "code",
   "execution_count": 10,
   "id": "dc4744cb-dd5a-4c50-9a35-649ebe7c58db",
   "metadata": {},
   "outputs": [],
   "source": [
    "df_movies['release_year'] = df_movies['Title'].str.extract('\\((\\d+)\\)')[0].astype('int')\n",
    "df_movies['Title'] = df_movies['Title'].str.extract('(.*) \\(\\d+\\)')[0]\n",
    "df_movies = pd.concat([df_movies, df_movies['Genres'].str.get_dummies(sep = '|')], axis=1)\n",
    "df_movies.drop(['Genres'], inplace=True, axis=1)\n",
    "df_movies.rename(columns = {'Movie ID':'MovieID'}, inplace = True)"
   ]
  },
  {
   "cell_type": "code",
   "execution_count": 11,
   "id": "9279bcfc-fe70-49ff-9b24-8f5b26cb4f90",
   "metadata": {},
   "outputs": [
    {
     "data": {
      "text/html": [
       "<div>\n",
       "<style scoped>\n",
       "    .dataframe tbody tr th:only-of-type {\n",
       "        vertical-align: middle;\n",
       "    }\n",
       "\n",
       "    .dataframe tbody tr th {\n",
       "        vertical-align: top;\n",
       "    }\n",
       "\n",
       "    .dataframe thead th {\n",
       "        text-align: right;\n",
       "    }\n",
       "</style>\n",
       "<table border=\"1\" class=\"dataframe\">\n",
       "  <thead>\n",
       "    <tr style=\"text-align: right;\">\n",
       "      <th></th>\n",
       "      <th>MovieID</th>\n",
       "      <th>Title</th>\n",
       "      <th>release_year</th>\n",
       "      <th>Action</th>\n",
       "      <th>Adventure</th>\n",
       "      <th>Animation</th>\n",
       "      <th>Children's</th>\n",
       "      <th>Comedy</th>\n",
       "      <th>Crime</th>\n",
       "      <th>Documentary</th>\n",
       "      <th>...</th>\n",
       "      <th>Fantasy</th>\n",
       "      <th>Film-Noir</th>\n",
       "      <th>Horror</th>\n",
       "      <th>Musical</th>\n",
       "      <th>Mystery</th>\n",
       "      <th>Romance</th>\n",
       "      <th>Sci-Fi</th>\n",
       "      <th>Thriller</th>\n",
       "      <th>War</th>\n",
       "      <th>Western</th>\n",
       "    </tr>\n",
       "  </thead>\n",
       "  <tbody>\n",
       "    <tr>\n",
       "      <th>0</th>\n",
       "      <td>1</td>\n",
       "      <td>Toy Story</td>\n",
       "      <td>1995</td>\n",
       "      <td>0</td>\n",
       "      <td>0</td>\n",
       "      <td>1</td>\n",
       "      <td>1</td>\n",
       "      <td>1</td>\n",
       "      <td>0</td>\n",
       "      <td>0</td>\n",
       "      <td>...</td>\n",
       "      <td>0</td>\n",
       "      <td>0</td>\n",
       "      <td>0</td>\n",
       "      <td>0</td>\n",
       "      <td>0</td>\n",
       "      <td>0</td>\n",
       "      <td>0</td>\n",
       "      <td>0</td>\n",
       "      <td>0</td>\n",
       "      <td>0</td>\n",
       "    </tr>\n",
       "    <tr>\n",
       "      <th>1</th>\n",
       "      <td>2</td>\n",
       "      <td>Jumanji</td>\n",
       "      <td>1995</td>\n",
       "      <td>0</td>\n",
       "      <td>1</td>\n",
       "      <td>0</td>\n",
       "      <td>1</td>\n",
       "      <td>0</td>\n",
       "      <td>0</td>\n",
       "      <td>0</td>\n",
       "      <td>...</td>\n",
       "      <td>1</td>\n",
       "      <td>0</td>\n",
       "      <td>0</td>\n",
       "      <td>0</td>\n",
       "      <td>0</td>\n",
       "      <td>0</td>\n",
       "      <td>0</td>\n",
       "      <td>0</td>\n",
       "      <td>0</td>\n",
       "      <td>0</td>\n",
       "    </tr>\n",
       "    <tr>\n",
       "      <th>2</th>\n",
       "      <td>3</td>\n",
       "      <td>Grumpier Old Men</td>\n",
       "      <td>1995</td>\n",
       "      <td>0</td>\n",
       "      <td>0</td>\n",
       "      <td>0</td>\n",
       "      <td>0</td>\n",
       "      <td>1</td>\n",
       "      <td>0</td>\n",
       "      <td>0</td>\n",
       "      <td>...</td>\n",
       "      <td>0</td>\n",
       "      <td>0</td>\n",
       "      <td>0</td>\n",
       "      <td>0</td>\n",
       "      <td>0</td>\n",
       "      <td>1</td>\n",
       "      <td>0</td>\n",
       "      <td>0</td>\n",
       "      <td>0</td>\n",
       "      <td>0</td>\n",
       "    </tr>\n",
       "    <tr>\n",
       "      <th>3</th>\n",
       "      <td>4</td>\n",
       "      <td>Waiting to Exhale</td>\n",
       "      <td>1995</td>\n",
       "      <td>0</td>\n",
       "      <td>0</td>\n",
       "      <td>0</td>\n",
       "      <td>0</td>\n",
       "      <td>1</td>\n",
       "      <td>0</td>\n",
       "      <td>0</td>\n",
       "      <td>...</td>\n",
       "      <td>0</td>\n",
       "      <td>0</td>\n",
       "      <td>0</td>\n",
       "      <td>0</td>\n",
       "      <td>0</td>\n",
       "      <td>0</td>\n",
       "      <td>0</td>\n",
       "      <td>0</td>\n",
       "      <td>0</td>\n",
       "      <td>0</td>\n",
       "    </tr>\n",
       "    <tr>\n",
       "      <th>4</th>\n",
       "      <td>5</td>\n",
       "      <td>Father of the Bride Part II</td>\n",
       "      <td>1995</td>\n",
       "      <td>0</td>\n",
       "      <td>0</td>\n",
       "      <td>0</td>\n",
       "      <td>0</td>\n",
       "      <td>1</td>\n",
       "      <td>0</td>\n",
       "      <td>0</td>\n",
       "      <td>...</td>\n",
       "      <td>0</td>\n",
       "      <td>0</td>\n",
       "      <td>0</td>\n",
       "      <td>0</td>\n",
       "      <td>0</td>\n",
       "      <td>0</td>\n",
       "      <td>0</td>\n",
       "      <td>0</td>\n",
       "      <td>0</td>\n",
       "      <td>0</td>\n",
       "    </tr>\n",
       "  </tbody>\n",
       "</table>\n",
       "<p>5 rows × 21 columns</p>\n",
       "</div>"
      ],
      "text/plain": [
       "   MovieID                        Title  release_year  Action  Adventure  \\\n",
       "0        1                    Toy Story          1995       0          0   \n",
       "1        2                      Jumanji          1995       0          1   \n",
       "2        3             Grumpier Old Men          1995       0          0   \n",
       "3        4            Waiting to Exhale          1995       0          0   \n",
       "4        5  Father of the Bride Part II          1995       0          0   \n",
       "\n",
       "   Animation  Children's  Comedy  Crime  Documentary  ...  Fantasy  Film-Noir  \\\n",
       "0          1           1       1      0            0  ...        0          0   \n",
       "1          0           1       0      0            0  ...        1          0   \n",
       "2          0           0       1      0            0  ...        0          0   \n",
       "3          0           0       1      0            0  ...        0          0   \n",
       "4          0           0       1      0            0  ...        0          0   \n",
       "\n",
       "   Horror  Musical  Mystery  Romance  Sci-Fi  Thriller  War  Western  \n",
       "0       0        0        0        0       0         0    0        0  \n",
       "1       0        0        0        0       0         0    0        0  \n",
       "2       0        0        0        1       0         0    0        0  \n",
       "3       0        0        0        0       0         0    0        0  \n",
       "4       0        0        0        0       0         0    0        0  \n",
       "\n",
       "[5 rows x 21 columns]"
      ]
     },
     "execution_count": 11,
     "metadata": {},
     "output_type": "execute_result"
    }
   ],
   "source": [
    "df_movies.head()"
   ]
  },
  {
   "cell_type": "code",
   "execution_count": 12,
   "id": "b5243b1f-c70d-4453-bb76-7624805d48d2",
   "metadata": {},
   "outputs": [],
   "source": [
    "df_ratings['Timestamp'] = pd.to_datetime(df_ratings['Timestamp'],unit='s')"
   ]
  },
  {
   "cell_type": "code",
   "execution_count": 13,
   "id": "8c99b2c8-ffb3-4699-bdd2-51c053227b08",
   "metadata": {},
   "outputs": [
    {
     "data": {
      "text/html": [
       "<div>\n",
       "<style scoped>\n",
       "    .dataframe tbody tr th:only-of-type {\n",
       "        vertical-align: middle;\n",
       "    }\n",
       "\n",
       "    .dataframe tbody tr th {\n",
       "        vertical-align: top;\n",
       "    }\n",
       "\n",
       "    .dataframe thead th {\n",
       "        text-align: right;\n",
       "    }\n",
       "</style>\n",
       "<table border=\"1\" class=\"dataframe\">\n",
       "  <thead>\n",
       "    <tr style=\"text-align: right;\">\n",
       "      <th></th>\n",
       "      <th>UserID</th>\n",
       "      <th>MovieID</th>\n",
       "      <th>Rating</th>\n",
       "      <th>Timestamp</th>\n",
       "    </tr>\n",
       "  </thead>\n",
       "  <tbody>\n",
       "    <tr>\n",
       "      <th>0</th>\n",
       "      <td>1</td>\n",
       "      <td>1193</td>\n",
       "      <td>5</td>\n",
       "      <td>2000-12-31 22:12:40</td>\n",
       "    </tr>\n",
       "    <tr>\n",
       "      <th>1</th>\n",
       "      <td>1</td>\n",
       "      <td>661</td>\n",
       "      <td>3</td>\n",
       "      <td>2000-12-31 22:35:09</td>\n",
       "    </tr>\n",
       "    <tr>\n",
       "      <th>2</th>\n",
       "      <td>1</td>\n",
       "      <td>914</td>\n",
       "      <td>3</td>\n",
       "      <td>2000-12-31 22:32:48</td>\n",
       "    </tr>\n",
       "    <tr>\n",
       "      <th>3</th>\n",
       "      <td>1</td>\n",
       "      <td>3408</td>\n",
       "      <td>4</td>\n",
       "      <td>2000-12-31 22:04:35</td>\n",
       "    </tr>\n",
       "    <tr>\n",
       "      <th>4</th>\n",
       "      <td>1</td>\n",
       "      <td>2355</td>\n",
       "      <td>5</td>\n",
       "      <td>2001-01-06 23:38:11</td>\n",
       "    </tr>\n",
       "  </tbody>\n",
       "</table>\n",
       "</div>"
      ],
      "text/plain": [
       "   UserID  MovieID  Rating           Timestamp\n",
       "0       1     1193       5 2000-12-31 22:12:40\n",
       "1       1      661       3 2000-12-31 22:35:09\n",
       "2       1      914       3 2000-12-31 22:32:48\n",
       "3       1     3408       4 2000-12-31 22:04:35\n",
       "4       1     2355       5 2001-01-06 23:38:11"
      ]
     },
     "execution_count": 13,
     "metadata": {},
     "output_type": "execute_result"
    }
   ],
   "source": [
    "df_ratings.head()"
   ]
  },
  {
   "cell_type": "code",
   "execution_count": 14,
   "id": "31dbf7d6-33b5-4706-888b-f84ca0fa75b4",
   "metadata": {},
   "outputs": [],
   "source": [
    "df = df_ratings.merge(df_users).merge(df_movies)"
   ]
  },
  {
   "cell_type": "code",
   "execution_count": 15,
   "id": "edd127a7-a4cd-4d32-b688-5c6ce1f22d0d",
   "metadata": {},
   "outputs": [
    {
     "data": {
      "text/html": [
       "<div>\n",
       "<style scoped>\n",
       "    .dataframe tbody tr th:only-of-type {\n",
       "        vertical-align: middle;\n",
       "    }\n",
       "\n",
       "    .dataframe tbody tr th {\n",
       "        vertical-align: top;\n",
       "    }\n",
       "\n",
       "    .dataframe thead th {\n",
       "        text-align: right;\n",
       "    }\n",
       "</style>\n",
       "<table border=\"1\" class=\"dataframe\">\n",
       "  <thead>\n",
       "    <tr style=\"text-align: right;\">\n",
       "      <th></th>\n",
       "      <th>UserID</th>\n",
       "      <th>MovieID</th>\n",
       "      <th>Rating</th>\n",
       "      <th>Timestamp</th>\n",
       "      <th>Gender</th>\n",
       "      <th>Age</th>\n",
       "      <th>Occupation</th>\n",
       "      <th>Zip-code</th>\n",
       "      <th>Title</th>\n",
       "      <th>release_year</th>\n",
       "      <th>...</th>\n",
       "      <th>Fantasy</th>\n",
       "      <th>Film-Noir</th>\n",
       "      <th>Horror</th>\n",
       "      <th>Musical</th>\n",
       "      <th>Mystery</th>\n",
       "      <th>Romance</th>\n",
       "      <th>Sci-Fi</th>\n",
       "      <th>Thriller</th>\n",
       "      <th>War</th>\n",
       "      <th>Western</th>\n",
       "    </tr>\n",
       "  </thead>\n",
       "  <tbody>\n",
       "    <tr>\n",
       "      <th>0</th>\n",
       "      <td>1</td>\n",
       "      <td>1193</td>\n",
       "      <td>5</td>\n",
       "      <td>2000-12-31 22:12:40</td>\n",
       "      <td>F</td>\n",
       "      <td>1</td>\n",
       "      <td>K-12 student</td>\n",
       "      <td>48067</td>\n",
       "      <td>One Flew Over the Cuckoo's Nest</td>\n",
       "      <td>1975</td>\n",
       "      <td>...</td>\n",
       "      <td>0</td>\n",
       "      <td>0</td>\n",
       "      <td>0</td>\n",
       "      <td>0</td>\n",
       "      <td>0</td>\n",
       "      <td>0</td>\n",
       "      <td>0</td>\n",
       "      <td>0</td>\n",
       "      <td>0</td>\n",
       "      <td>0</td>\n",
       "    </tr>\n",
       "    <tr>\n",
       "      <th>1</th>\n",
       "      <td>2</td>\n",
       "      <td>1193</td>\n",
       "      <td>5</td>\n",
       "      <td>2000-12-31 21:33:33</td>\n",
       "      <td>M</td>\n",
       "      <td>56</td>\n",
       "      <td>self-employed</td>\n",
       "      <td>70072</td>\n",
       "      <td>One Flew Over the Cuckoo's Nest</td>\n",
       "      <td>1975</td>\n",
       "      <td>...</td>\n",
       "      <td>0</td>\n",
       "      <td>0</td>\n",
       "      <td>0</td>\n",
       "      <td>0</td>\n",
       "      <td>0</td>\n",
       "      <td>0</td>\n",
       "      <td>0</td>\n",
       "      <td>0</td>\n",
       "      <td>0</td>\n",
       "      <td>0</td>\n",
       "    </tr>\n",
       "    <tr>\n",
       "      <th>2</th>\n",
       "      <td>12</td>\n",
       "      <td>1193</td>\n",
       "      <td>4</td>\n",
       "      <td>2000-12-30 23:49:39</td>\n",
       "      <td>M</td>\n",
       "      <td>25</td>\n",
       "      <td>programmer</td>\n",
       "      <td>32793</td>\n",
       "      <td>One Flew Over the Cuckoo's Nest</td>\n",
       "      <td>1975</td>\n",
       "      <td>...</td>\n",
       "      <td>0</td>\n",
       "      <td>0</td>\n",
       "      <td>0</td>\n",
       "      <td>0</td>\n",
       "      <td>0</td>\n",
       "      <td>0</td>\n",
       "      <td>0</td>\n",
       "      <td>0</td>\n",
       "      <td>0</td>\n",
       "      <td>0</td>\n",
       "    </tr>\n",
       "    <tr>\n",
       "      <th>3</th>\n",
       "      <td>15</td>\n",
       "      <td>1193</td>\n",
       "      <td>4</td>\n",
       "      <td>2000-12-30 18:01:19</td>\n",
       "      <td>M</td>\n",
       "      <td>25</td>\n",
       "      <td>executive/managerial</td>\n",
       "      <td>22903</td>\n",
       "      <td>One Flew Over the Cuckoo's Nest</td>\n",
       "      <td>1975</td>\n",
       "      <td>...</td>\n",
       "      <td>0</td>\n",
       "      <td>0</td>\n",
       "      <td>0</td>\n",
       "      <td>0</td>\n",
       "      <td>0</td>\n",
       "      <td>0</td>\n",
       "      <td>0</td>\n",
       "      <td>0</td>\n",
       "      <td>0</td>\n",
       "      <td>0</td>\n",
       "    </tr>\n",
       "    <tr>\n",
       "      <th>4</th>\n",
       "      <td>17</td>\n",
       "      <td>1193</td>\n",
       "      <td>5</td>\n",
       "      <td>2000-12-30 06:41:11</td>\n",
       "      <td>M</td>\n",
       "      <td>50</td>\n",
       "      <td>academic/educator</td>\n",
       "      <td>95350</td>\n",
       "      <td>One Flew Over the Cuckoo's Nest</td>\n",
       "      <td>1975</td>\n",
       "      <td>...</td>\n",
       "      <td>0</td>\n",
       "      <td>0</td>\n",
       "      <td>0</td>\n",
       "      <td>0</td>\n",
       "      <td>0</td>\n",
       "      <td>0</td>\n",
       "      <td>0</td>\n",
       "      <td>0</td>\n",
       "      <td>0</td>\n",
       "      <td>0</td>\n",
       "    </tr>\n",
       "  </tbody>\n",
       "</table>\n",
       "<p>5 rows × 28 columns</p>\n",
       "</div>"
      ],
      "text/plain": [
       "   UserID  MovieID  Rating           Timestamp Gender  Age  \\\n",
       "0       1     1193       5 2000-12-31 22:12:40      F    1   \n",
       "1       2     1193       5 2000-12-31 21:33:33      M   56   \n",
       "2      12     1193       4 2000-12-30 23:49:39      M   25   \n",
       "3      15     1193       4 2000-12-30 18:01:19      M   25   \n",
       "4      17     1193       5 2000-12-30 06:41:11      M   50   \n",
       "\n",
       "             Occupation Zip-code                            Title  \\\n",
       "0          K-12 student    48067  One Flew Over the Cuckoo's Nest   \n",
       "1         self-employed    70072  One Flew Over the Cuckoo's Nest   \n",
       "2            programmer    32793  One Flew Over the Cuckoo's Nest   \n",
       "3  executive/managerial    22903  One Flew Over the Cuckoo's Nest   \n",
       "4     academic/educator    95350  One Flew Over the Cuckoo's Nest   \n",
       "\n",
       "   release_year  ...  Fantasy  Film-Noir  Horror  Musical  Mystery  Romance  \\\n",
       "0          1975  ...        0          0       0        0        0        0   \n",
       "1          1975  ...        0          0       0        0        0        0   \n",
       "2          1975  ...        0          0       0        0        0        0   \n",
       "3          1975  ...        0          0       0        0        0        0   \n",
       "4          1975  ...        0          0       0        0        0        0   \n",
       "\n",
       "   Sci-Fi  Thriller  War  Western  \n",
       "0       0         0    0        0  \n",
       "1       0         0    0        0  \n",
       "2       0         0    0        0  \n",
       "3       0         0    0        0  \n",
       "4       0         0    0        0  \n",
       "\n",
       "[5 rows x 28 columns]"
      ]
     },
     "execution_count": 15,
     "metadata": {},
     "output_type": "execute_result"
    }
   ],
   "source": [
    "df.head()"
   ]
  },
  {
   "cell_type": "markdown",
   "id": "9938f624-1f3c-45a6-be6e-7d44f1bc8e4c",
   "metadata": {},
   "source": [
    "***\n",
    "***\n",
    "## **4. Missing values handling.**"
   ]
  },
  {
   "cell_type": "code",
   "execution_count": 16,
   "id": "cae8132e-7f8d-4b20-ade1-0a6265443d06",
   "metadata": {},
   "outputs": [
    {
     "data": {
      "image/png": "[encoded data removed]",
      "text/plain": [
       "<Figure size 1800x720 with 3 Axes>"
      ]
     },
     "metadata": {
      "needs_background": "light"
     },
     "output_type": "display_data"
    }
   ],
   "source": [
    "msno.bar(df, color='tomato')\n",
    "plt.title(\"\\nAnalyzing Missing Data\\n\", fontsize=40, color=\"green\")\n",
    "plt.show()"
   ]
  },
  {
   "cell_type": "markdown",
   "id": "f4ed42fd-032c-4786-bafd-9663aa87ed95",
   "metadata": {},
   "source": [
    "***\n",
    "***\n",
    "## **5. Rating stats per movies.**"
   ]
  },
  {
   "cell_type": "code",
   "execution_count": 17,
   "id": "44440866-8ee0-451d-92f5-00be94ef3ce3",
   "metadata": {},
   "outputs": [
    {
     "data": {
      "text/html": [
       "<div>\n",
       "<style scoped>\n",
       "    .dataframe tbody tr th:only-of-type {\n",
       "        vertical-align: middle;\n",
       "    }\n",
       "\n",
       "    .dataframe tbody tr th {\n",
       "        vertical-align: top;\n",
       "    }\n",
       "\n",
       "    .dataframe thead th {\n",
       "        text-align: right;\n",
       "    }\n",
       "</style>\n",
       "<table border=\"1\" class=\"dataframe\">\n",
       "  <thead>\n",
       "    <tr style=\"text-align: right;\">\n",
       "      <th></th>\n",
       "      <th>mean_rating</th>\n",
       "      <th>count_ratings</th>\n",
       "    </tr>\n",
       "    <tr>\n",
       "      <th>MovieID</th>\n",
       "      <th></th>\n",
       "      <th></th>\n",
       "    </tr>\n",
       "  </thead>\n",
       "  <tbody>\n",
       "    <tr>\n",
       "      <th>1</th>\n",
       "      <td>4.146846</td>\n",
       "      <td>2077</td>\n",
       "    </tr>\n",
       "    <tr>\n",
       "      <th>2</th>\n",
       "      <td>3.201141</td>\n",
       "      <td>701</td>\n",
       "    </tr>\n",
       "    <tr>\n",
       "      <th>3</th>\n",
       "      <td>3.016736</td>\n",
       "      <td>478</td>\n",
       "    </tr>\n",
       "    <tr>\n",
       "      <th>4</th>\n",
       "      <td>2.729412</td>\n",
       "      <td>170</td>\n",
       "    </tr>\n",
       "    <tr>\n",
       "      <th>5</th>\n",
       "      <td>3.006757</td>\n",
       "      <td>296</td>\n",
       "    </tr>\n",
       "    <tr>\n",
       "      <th>...</th>\n",
       "      <td>...</td>\n",
       "      <td>...</td>\n",
       "    </tr>\n",
       "    <tr>\n",
       "      <th>3948</th>\n",
       "      <td>3.635731</td>\n",
       "      <td>862</td>\n",
       "    </tr>\n",
       "    <tr>\n",
       "      <th>3949</th>\n",
       "      <td>4.115132</td>\n",
       "      <td>304</td>\n",
       "    </tr>\n",
       "    <tr>\n",
       "      <th>3950</th>\n",
       "      <td>3.666667</td>\n",
       "      <td>54</td>\n",
       "    </tr>\n",
       "    <tr>\n",
       "      <th>3951</th>\n",
       "      <td>3.900000</td>\n",
       "      <td>40</td>\n",
       "    </tr>\n",
       "    <tr>\n",
       "      <th>3952</th>\n",
       "      <td>3.780928</td>\n",
       "      <td>388</td>\n",
       "    </tr>\n",
       "  </tbody>\n",
       "</table>\n",
       "<p>3706 rows × 2 columns</p>\n",
       "</div>"
      ],
      "text/plain": [
       "         mean_rating  count_ratings\n",
       "MovieID                            \n",
       "1           4.146846           2077\n",
       "2           3.201141            701\n",
       "3           3.016736            478\n",
       "4           2.729412            170\n",
       "5           3.006757            296\n",
       "...              ...            ...\n",
       "3948        3.635731            862\n",
       "3949        4.115132            304\n",
       "3950        3.666667             54\n",
       "3951        3.900000             40\n",
       "3952        3.780928            388\n",
       "\n",
       "[3706 rows x 2 columns]"
      ]
     },
     "execution_count": 17,
     "metadata": {},
     "output_type": "execute_result"
    }
   ],
   "source": [
    "df_ratings.groupby(['MovieID']).agg(mean_rating=('Rating', 'mean'), count_ratings=('Rating', 'count'))"
   ]
  },
  {
   "cell_type": "markdown",
   "id": "5ed65969-8335-4751-b392-72ed580343bc",
   "metadata": {},
   "source": [
    "***\n",
    "***\n",
    "## **6. User-Item Interaction Matrix.**"
   ]
  },
  {
   "cell_type": "code",
   "execution_count": 18,
   "id": "c1bc768e-20b9-43e8-bbf8-c0a13f91b337",
   "metadata": {},
   "outputs": [],
   "source": [
    "df_pivoted = df.pivot_table(index='UserID',columns='Title',values='Rating')\n",
    "df_pivoted.fillna(0, inplace=True)"
   ]
  },
  {
   "cell_type": "code",
   "execution_count": 19,
   "id": "03fffc36-278f-41bc-8d35-c934e403f564",
   "metadata": {},
   "outputs": [
    {
     "data": {
      "text/html": [
       "<div>\n",
       "<style scoped>\n",
       "    .dataframe tbody tr th:only-of-type {\n",
       "        vertical-align: middle;\n",
       "    }\n",
       "\n",
       "    .dataframe tbody tr th {\n",
       "        vertical-align: top;\n",
       "    }\n",
       "\n",
       "    .dataframe thead th {\n",
       "        text-align: right;\n",
       "    }\n",
       "</style>\n",
       "<table border=\"1\" class=\"dataframe\">\n",
       "  <thead>\n",
       "    <tr style=\"text-align: right;\">\n",
       "      <th>Title</th>\n",
       "      <th>$1,000,000 Duck</th>\n",
       "      <th>'Night Mother</th>\n",
       "      <th>'Til There Was You</th>\n",
       "      <th>'burbs, The</th>\n",
       "      <th>...And Justice for All</th>\n",
       "      <th>1-900</th>\n",
       "      <th>10 Things I Hate About You</th>\n",
       "      <th>101 Dalmatians</th>\n",
       "      <th>12 Angry Men</th>\n",
       "      <th>13th Warrior, The</th>\n",
       "      <th>...</th>\n",
       "      <th>Young Poisoner's Handbook, The</th>\n",
       "      <th>Young Sherlock Holmes</th>\n",
       "      <th>Young and Innocent</th>\n",
       "      <th>Your Friends and Neighbors</th>\n",
       "      <th>Zachariah</th>\n",
       "      <th>Zed &amp; Two Noughts, A</th>\n",
       "      <th>Zero Effect</th>\n",
       "      <th>Zero Kelvin (Kjærlighetens kjøtere)</th>\n",
       "      <th>Zeus and Roxanne</th>\n",
       "      <th>eXistenZ</th>\n",
       "    </tr>\n",
       "    <tr>\n",
       "      <th>UserID</th>\n",
       "      <th></th>\n",
       "      <th></th>\n",
       "      <th></th>\n",
       "      <th></th>\n",
       "      <th></th>\n",
       "      <th></th>\n",
       "      <th></th>\n",
       "      <th></th>\n",
       "      <th></th>\n",
       "      <th></th>\n",
       "      <th></th>\n",
       "      <th></th>\n",
       "      <th></th>\n",
       "      <th></th>\n",
       "      <th></th>\n",
       "      <th></th>\n",
       "      <th></th>\n",
       "      <th></th>\n",
       "      <th></th>\n",
       "      <th></th>\n",
       "      <th></th>\n",
       "    </tr>\n",
       "  </thead>\n",
       "  <tbody>\n",
       "    <tr>\n",
       "      <th>1</th>\n",
       "      <td>0.0</td>\n",
       "      <td>0.0</td>\n",
       "      <td>0.0</td>\n",
       "      <td>0.0</td>\n",
       "      <td>0.0</td>\n",
       "      <td>0.0</td>\n",
       "      <td>0.0</td>\n",
       "      <td>0.0</td>\n",
       "      <td>0.0</td>\n",
       "      <td>0.0</td>\n",
       "      <td>...</td>\n",
       "      <td>0.0</td>\n",
       "      <td>0.0</td>\n",
       "      <td>0.0</td>\n",
       "      <td>0.0</td>\n",
       "      <td>0.0</td>\n",
       "      <td>0.0</td>\n",
       "      <td>0.0</td>\n",
       "      <td>0.0</td>\n",
       "      <td>0.0</td>\n",
       "      <td>0.0</td>\n",
       "    </tr>\n",
       "    <tr>\n",
       "      <th>2</th>\n",
       "      <td>0.0</td>\n",
       "      <td>0.0</td>\n",
       "      <td>0.0</td>\n",
       "      <td>0.0</td>\n",
       "      <td>0.0</td>\n",
       "      <td>0.0</td>\n",
       "      <td>0.0</td>\n",
       "      <td>0.0</td>\n",
       "      <td>0.0</td>\n",
       "      <td>0.0</td>\n",
       "      <td>...</td>\n",
       "      <td>0.0</td>\n",
       "      <td>0.0</td>\n",
       "      <td>0.0</td>\n",
       "      <td>0.0</td>\n",
       "      <td>0.0</td>\n",
       "      <td>0.0</td>\n",
       "      <td>0.0</td>\n",
       "      <td>0.0</td>\n",
       "      <td>0.0</td>\n",
       "      <td>0.0</td>\n",
       "    </tr>\n",
       "    <tr>\n",
       "      <th>3</th>\n",
       "      <td>0.0</td>\n",
       "      <td>0.0</td>\n",
       "      <td>0.0</td>\n",
       "      <td>0.0</td>\n",
       "      <td>0.0</td>\n",
       "      <td>0.0</td>\n",
       "      <td>0.0</td>\n",
       "      <td>0.0</td>\n",
       "      <td>0.0</td>\n",
       "      <td>0.0</td>\n",
       "      <td>...</td>\n",
       "      <td>0.0</td>\n",
       "      <td>0.0</td>\n",
       "      <td>0.0</td>\n",
       "      <td>0.0</td>\n",
       "      <td>0.0</td>\n",
       "      <td>0.0</td>\n",
       "      <td>0.0</td>\n",
       "      <td>0.0</td>\n",
       "      <td>0.0</td>\n",
       "      <td>0.0</td>\n",
       "    </tr>\n",
       "    <tr>\n",
       "      <th>4</th>\n",
       "      <td>0.0</td>\n",
       "      <td>0.0</td>\n",
       "      <td>0.0</td>\n",
       "      <td>0.0</td>\n",
       "      <td>0.0</td>\n",
       "      <td>0.0</td>\n",
       "      <td>0.0</td>\n",
       "      <td>0.0</td>\n",
       "      <td>0.0</td>\n",
       "      <td>0.0</td>\n",
       "      <td>...</td>\n",
       "      <td>0.0</td>\n",
       "      <td>0.0</td>\n",
       "      <td>0.0</td>\n",
       "      <td>0.0</td>\n",
       "      <td>0.0</td>\n",
       "      <td>0.0</td>\n",
       "      <td>0.0</td>\n",
       "      <td>0.0</td>\n",
       "      <td>0.0</td>\n",
       "      <td>0.0</td>\n",
       "    </tr>\n",
       "    <tr>\n",
       "      <th>5</th>\n",
       "      <td>0.0</td>\n",
       "      <td>0.0</td>\n",
       "      <td>0.0</td>\n",
       "      <td>0.0</td>\n",
       "      <td>0.0</td>\n",
       "      <td>0.0</td>\n",
       "      <td>0.0</td>\n",
       "      <td>0.0</td>\n",
       "      <td>0.0</td>\n",
       "      <td>0.0</td>\n",
       "      <td>...</td>\n",
       "      <td>0.0</td>\n",
       "      <td>0.0</td>\n",
       "      <td>0.0</td>\n",
       "      <td>0.0</td>\n",
       "      <td>0.0</td>\n",
       "      <td>0.0</td>\n",
       "      <td>0.0</td>\n",
       "      <td>0.0</td>\n",
       "      <td>0.0</td>\n",
       "      <td>0.0</td>\n",
       "    </tr>\n",
       "  </tbody>\n",
       "</table>\n",
       "<p>5 rows × 3664 columns</p>\n",
       "</div>"
      ],
      "text/plain": [
       "Title   $1,000,000 Duck  'Night Mother  'Til There Was You  'burbs, The  \\\n",
       "UserID                                                                    \n",
       "1                   0.0            0.0                 0.0          0.0   \n",
       "2                   0.0            0.0                 0.0          0.0   \n",
       "3                   0.0            0.0                 0.0          0.0   \n",
       "4                   0.0            0.0                 0.0          0.0   \n",
       "5                   0.0            0.0                 0.0          0.0   \n",
       "\n",
       "Title   ...And Justice for All  1-900  10 Things I Hate About You  \\\n",
       "UserID                                                              \n",
       "1                          0.0    0.0                         0.0   \n",
       "2                          0.0    0.0                         0.0   \n",
       "3                          0.0    0.0                         0.0   \n",
       "4                          0.0    0.0                         0.0   \n",
       "5                          0.0    0.0                         0.0   \n",
       "\n",
       "Title   101 Dalmatians  12 Angry Men  13th Warrior, The  ...  \\\n",
       "UserID                                                   ...   \n",
       "1                  0.0           0.0                0.0  ...   \n",
       "2                  0.0           0.0                0.0  ...   \n",
       "3                  0.0           0.0                0.0  ...   \n",
       "4                  0.0           0.0                0.0  ...   \n",
       "5                  0.0           0.0                0.0  ...   \n",
       "\n",
       "Title   Young Poisoner's Handbook, The  Young Sherlock Holmes  \\\n",
       "UserID                                                          \n",
       "1                                  0.0                    0.0   \n",
       "2                                  0.0                    0.0   \n",
       "3                                  0.0                    0.0   \n",
       "4                                  0.0                    0.0   \n",
       "5                                  0.0                    0.0   \n",
       "\n",
       "Title   Young and Innocent  Your Friends and Neighbors  Zachariah  \\\n",
       "UserID                                                              \n",
       "1                      0.0                         0.0        0.0   \n",
       "2                      0.0                         0.0        0.0   \n",
       "3                      0.0                         0.0        0.0   \n",
       "4                      0.0                         0.0        0.0   \n",
       "5                      0.0                         0.0        0.0   \n",
       "\n",
       "Title   Zed & Two Noughts, A  Zero Effect  \\\n",
       "UserID                                      \n",
       "1                        0.0          0.0   \n",
       "2                        0.0          0.0   \n",
       "3                        0.0          0.0   \n",
       "4                        0.0          0.0   \n",
       "5                        0.0          0.0   \n",
       "\n",
       "Title   Zero Kelvin (Kjærlighetens kjøtere)  Zeus and Roxanne  eXistenZ  \n",
       "UserID                                                                   \n",
       "1                                       0.0               0.0       0.0  \n",
       "2                                       0.0               0.0       0.0  \n",
       "3                                       0.0               0.0       0.0  \n",
       "4                                       0.0               0.0       0.0  \n",
       "5                                       0.0               0.0       0.0  \n",
       "\n",
       "[5 rows x 3664 columns]"
      ]
     },
     "execution_count": 19,
     "metadata": {},
     "output_type": "execute_result"
    }
   ],
   "source": [
    "df_pivoted.head()"
   ]
  },
  {
   "cell_type": "markdown",
   "id": "2ebc4f9f-f547-493b-beaf-a03e894219ce",
   "metadata": {},
   "source": [
    "***\n",
    "***\n",
    "## **7. Pearson correlation based recommender.**"
   ]
  },
  {
   "cell_type": "code",
   "execution_count": 20,
   "id": "a9084a67-ce04-4b2b-8c3f-e83dc16ade04",
   "metadata": {},
   "outputs": [],
   "source": [
    "def simple_recommender_pearson_item_input(input_df, input_movie_title):\n",
    "    input_series = input_df.loc[:, input_movie_title]\n",
    "    return pd.Series(input_df.corrwith(input_series).sort_values(ascending=False)[1:6].index)"
   ]
  },
  {
   "cell_type": "code",
   "execution_count": 21,
   "id": "fd9e472a-24ab-4f39-afec-3f2035546f2b",
   "metadata": {},
   "outputs": [
    {
     "data": {
      "text/plain": [
       "0       Toy Story 2\n",
       "1           Aladdin\n",
       "2    Lion King, The\n",
       "3     Groundhog Day\n",
       "4     Bug's Life, A\n",
       "Name: Title, dtype: object"
      ]
     },
     "execution_count": 21,
     "metadata": {},
     "output_type": "execute_result"
    }
   ],
   "source": [
    "simple_recommender_pearson_item_input(df_pivoted, 'Toy Story')"
   ]
  },
  {
   "cell_type": "code",
   "execution_count": 22,
   "id": "f6f97630-9992-4518-b119-31ba6c750fe7",
   "metadata": {},
   "outputs": [
    {
     "data": {
      "text/plain": [
       "0            Pretty Woman\n",
       "1                   Ghost\n",
       "2    Sleepless in Seattle\n",
       "3           Groundhog Day\n",
       "4      As Good As It Gets\n",
       "Name: Title, dtype: object"
      ]
     },
     "execution_count": 22,
     "metadata": {},
     "output_type": "execute_result"
    }
   ],
   "source": [
    "simple_recommender_pearson_item_input(df_pivoted, 'Forrest Gump')"
   ]
  },
  {
   "cell_type": "markdown",
   "id": "50227b3e-5208-4244-a653-391ef2e065aa",
   "metadata": {},
   "source": [
    "***\n",
    "***\n",
    "## **8. Item-Item Similarity Matrix (Cosine Similarity).**"
   ]
  },
  {
   "cell_type": "code",
   "execution_count": 23,
   "id": "9f7cf86f-89eb-4510-9063-a144d07618bd",
   "metadata": {},
   "outputs": [
    {
     "data": {
      "text/html": [
       "<div>\n",
       "<style scoped>\n",
       "    .dataframe tbody tr th:only-of-type {\n",
       "        vertical-align: middle;\n",
       "    }\n",
       "\n",
       "    .dataframe tbody tr th {\n",
       "        vertical-align: top;\n",
       "    }\n",
       "\n",
       "    .dataframe thead th {\n",
       "        text-align: right;\n",
       "    }\n",
       "</style>\n",
       "<table border=\"1\" class=\"dataframe\">\n",
       "  <thead>\n",
       "    <tr style=\"text-align: right;\">\n",
       "      <th>Title</th>\n",
       "      <th>$1,000,000 Duck</th>\n",
       "      <th>'Night Mother</th>\n",
       "      <th>'Til There Was You</th>\n",
       "      <th>'burbs, The</th>\n",
       "      <th>...And Justice for All</th>\n",
       "      <th>1-900</th>\n",
       "      <th>10 Things I Hate About You</th>\n",
       "      <th>101 Dalmatians</th>\n",
       "      <th>12 Angry Men</th>\n",
       "      <th>13th Warrior, The</th>\n",
       "      <th>...</th>\n",
       "      <th>Young Poisoner's Handbook, The</th>\n",
       "      <th>Young Sherlock Holmes</th>\n",
       "      <th>Young and Innocent</th>\n",
       "      <th>Your Friends and Neighbors</th>\n",
       "      <th>Zachariah</th>\n",
       "      <th>Zed &amp; Two Noughts, A</th>\n",
       "      <th>Zero Effect</th>\n",
       "      <th>Zero Kelvin (Kjærlighetens kjøtere)</th>\n",
       "      <th>Zeus and Roxanne</th>\n",
       "      <th>eXistenZ</th>\n",
       "    </tr>\n",
       "    <tr>\n",
       "      <th>Title</th>\n",
       "      <th></th>\n",
       "      <th></th>\n",
       "      <th></th>\n",
       "      <th></th>\n",
       "      <th></th>\n",
       "      <th></th>\n",
       "      <th></th>\n",
       "      <th></th>\n",
       "      <th></th>\n",
       "      <th></th>\n",
       "      <th></th>\n",
       "      <th></th>\n",
       "      <th></th>\n",
       "      <th></th>\n",
       "      <th></th>\n",
       "      <th></th>\n",
       "      <th></th>\n",
       "      <th></th>\n",
       "      <th></th>\n",
       "      <th></th>\n",
       "      <th></th>\n",
       "    </tr>\n",
       "  </thead>\n",
       "  <tbody>\n",
       "    <tr>\n",
       "      <th>$1,000,000 Duck</th>\n",
       "      <td>1.000000</td>\n",
       "      <td>0.072357</td>\n",
       "      <td>0.037011</td>\n",
       "      <td>0.079291</td>\n",
       "      <td>0.060838</td>\n",
       "      <td>0.00000</td>\n",
       "      <td>0.058619</td>\n",
       "      <td>0.189843</td>\n",
       "      <td>0.094785</td>\n",
       "      <td>0.058418</td>\n",
       "      <td>...</td>\n",
       "      <td>0.038725</td>\n",
       "      <td>0.076474</td>\n",
       "      <td>0.000000</td>\n",
       "      <td>0.044074</td>\n",
       "      <td>0.0</td>\n",
       "      <td>0.045280</td>\n",
       "      <td>0.039395</td>\n",
       "      <td>0.000000</td>\n",
       "      <td>0.120242</td>\n",
       "      <td>0.027003</td>\n",
       "    </tr>\n",
       "    <tr>\n",
       "      <th>'Night Mother</th>\n",
       "      <td>0.072357</td>\n",
       "      <td>1.000000</td>\n",
       "      <td>0.115290</td>\n",
       "      <td>0.115545</td>\n",
       "      <td>0.159526</td>\n",
       "      <td>0.00000</td>\n",
       "      <td>0.076798</td>\n",
       "      <td>0.137135</td>\n",
       "      <td>0.111413</td>\n",
       "      <td>0.046135</td>\n",
       "      <td>...</td>\n",
       "      <td>0.053010</td>\n",
       "      <td>0.087828</td>\n",
       "      <td>0.063758</td>\n",
       "      <td>0.135962</td>\n",
       "      <td>0.0</td>\n",
       "      <td>0.091150</td>\n",
       "      <td>0.074787</td>\n",
       "      <td>0.000000</td>\n",
       "      <td>0.000000</td>\n",
       "      <td>0.077807</td>\n",
       "    </tr>\n",
       "    <tr>\n",
       "      <th>'Til There Was You</th>\n",
       "      <td>0.037011</td>\n",
       "      <td>0.115290</td>\n",
       "      <td>1.000000</td>\n",
       "      <td>0.098756</td>\n",
       "      <td>0.066301</td>\n",
       "      <td>0.08025</td>\n",
       "      <td>0.127895</td>\n",
       "      <td>0.128523</td>\n",
       "      <td>0.079115</td>\n",
       "      <td>0.066598</td>\n",
       "      <td>...</td>\n",
       "      <td>0.029200</td>\n",
       "      <td>0.062893</td>\n",
       "      <td>0.000000</td>\n",
       "      <td>0.079187</td>\n",
       "      <td>0.0</td>\n",
       "      <td>0.022594</td>\n",
       "      <td>0.079261</td>\n",
       "      <td>0.000000</td>\n",
       "      <td>0.047526</td>\n",
       "      <td>0.063284</td>\n",
       "    </tr>\n",
       "    <tr>\n",
       "      <th>'burbs, The</th>\n",
       "      <td>0.079291</td>\n",
       "      <td>0.115545</td>\n",
       "      <td>0.098756</td>\n",
       "      <td>1.000000</td>\n",
       "      <td>0.143620</td>\n",
       "      <td>0.00000</td>\n",
       "      <td>0.192191</td>\n",
       "      <td>0.250140</td>\n",
       "      <td>0.170719</td>\n",
       "      <td>0.197808</td>\n",
       "      <td>...</td>\n",
       "      <td>0.113386</td>\n",
       "      <td>0.207897</td>\n",
       "      <td>0.019962</td>\n",
       "      <td>0.138064</td>\n",
       "      <td>0.0</td>\n",
       "      <td>0.055704</td>\n",
       "      <td>0.161174</td>\n",
       "      <td>0.000000</td>\n",
       "      <td>0.033567</td>\n",
       "      <td>0.110525</td>\n",
       "    </tr>\n",
       "    <tr>\n",
       "      <th>...And Justice for All</th>\n",
       "      <td>0.060838</td>\n",
       "      <td>0.159526</td>\n",
       "      <td>0.066301</td>\n",
       "      <td>0.143620</td>\n",
       "      <td>1.000000</td>\n",
       "      <td>0.00000</td>\n",
       "      <td>0.075093</td>\n",
       "      <td>0.178928</td>\n",
       "      <td>0.205486</td>\n",
       "      <td>0.122431</td>\n",
       "      <td>...</td>\n",
       "      <td>0.089998</td>\n",
       "      <td>0.153006</td>\n",
       "      <td>0.067009</td>\n",
       "      <td>0.109029</td>\n",
       "      <td>0.0</td>\n",
       "      <td>0.086080</td>\n",
       "      <td>0.110867</td>\n",
       "      <td>0.074317</td>\n",
       "      <td>0.000000</td>\n",
       "      <td>0.111040</td>\n",
       "    </tr>\n",
       "  </tbody>\n",
       "</table>\n",
       "<p>5 rows × 3664 columns</p>\n",
       "</div>"
      ],
      "text/plain": [
       "Title                   $1,000,000 Duck  'Night Mother  'Til There Was You  \\\n",
       "Title                                                                        \n",
       "$1,000,000 Duck                1.000000       0.072357            0.037011   \n",
       "'Night Mother                  0.072357       1.000000            0.115290   \n",
       "'Til There Was You             0.037011       0.115290            1.000000   \n",
       "'burbs, The                    0.079291       0.115545            0.098756   \n",
       "...And Justice for All         0.060838       0.159526            0.066301   \n",
       "\n",
       "Title                   'burbs, The  ...And Justice for All    1-900  \\\n",
       "Title                                                                  \n",
       "$1,000,000 Duck            0.079291                0.060838  0.00000   \n",
       "'Night Mother              0.115545                0.159526  0.00000   \n",
       "'Til There Was You         0.098756                0.066301  0.08025   \n",
       "'burbs, The                1.000000                0.143620  0.00000   \n",
       "...And Justice for All     0.143620                1.000000  0.00000   \n",
       "\n",
       "Title                   10 Things I Hate About You  101 Dalmatians  \\\n",
       "Title                                                                \n",
       "$1,000,000 Duck                           0.058619        0.189843   \n",
       "'Night Mother                             0.076798        0.137135   \n",
       "'Til There Was You                        0.127895        0.128523   \n",
       "'burbs, The                               0.192191        0.250140   \n",
       "...And Justice for All                    0.075093        0.178928   \n",
       "\n",
       "Title                   12 Angry Men  13th Warrior, The  ...  \\\n",
       "Title                                                    ...   \n",
       "$1,000,000 Duck             0.094785           0.058418  ...   \n",
       "'Night Mother               0.111413           0.046135  ...   \n",
       "'Til There Was You          0.079115           0.066598  ...   \n",
       "'burbs, The                 0.170719           0.197808  ...   \n",
       "...And Justice for All      0.205486           0.122431  ...   \n",
       "\n",
       "Title                   Young Poisoner's Handbook, The  Young Sherlock Holmes  \\\n",
       "Title                                                                           \n",
       "$1,000,000 Duck                               0.038725               0.076474   \n",
       "'Night Mother                                 0.053010               0.087828   \n",
       "'Til There Was You                            0.029200               0.062893   \n",
       "'burbs, The                                   0.113386               0.207897   \n",
       "...And Justice for All                        0.089998               0.153006   \n",
       "\n",
       "Title                   Young and Innocent  Your Friends and Neighbors  \\\n",
       "Title                                                                    \n",
       "$1,000,000 Duck                   0.000000                    0.044074   \n",
       "'Night Mother                     0.063758                    0.135962   \n",
       "'Til There Was You                0.000000                    0.079187   \n",
       "'burbs, The                       0.019962                    0.138064   \n",
       "...And Justice for All            0.067009                    0.109029   \n",
       "\n",
       "Title                   Zachariah  Zed & Two Noughts, A  Zero Effect  \\\n",
       "Title                                                                  \n",
       "$1,000,000 Duck               0.0              0.045280     0.039395   \n",
       "'Night Mother                 0.0              0.091150     0.074787   \n",
       "'Til There Was You            0.0              0.022594     0.079261   \n",
       "'burbs, The                   0.0              0.055704     0.161174   \n",
       "...And Justice for All        0.0              0.086080     0.110867   \n",
       "\n",
       "Title                   Zero Kelvin (Kjærlighetens kjøtere)  Zeus and Roxanne  \\\n",
       "Title                                                                           \n",
       "$1,000,000 Duck                                    0.000000          0.120242   \n",
       "'Night Mother                                      0.000000          0.000000   \n",
       "'Til There Was You                                 0.000000          0.047526   \n",
       "'burbs, The                                        0.000000          0.033567   \n",
       "...And Justice for All                             0.074317          0.000000   \n",
       "\n",
       "Title                   eXistenZ  \n",
       "Title                             \n",
       "$1,000,000 Duck         0.027003  \n",
       "'Night Mother           0.077807  \n",
       "'Til There Was You      0.063284  \n",
       "'burbs, The             0.110525  \n",
       "...And Justice for All  0.111040  \n",
       "\n",
       "[5 rows x 3664 columns]"
      ]
     },
     "execution_count": 23,
     "metadata": {},
     "output_type": "execute_result"
    }
   ],
   "source": [
    "# compute item similarity matrix\n",
    "item_item_similarity = cosine_similarity(df_pivoted.T)\n",
    "item_item_similarity_df = pd.DataFrame(item_item_similarity, index=df_pivoted.columns, columns=df_pivoted.columns)\n",
    "item_item_similarity_df.head()"
   ]
  },
  {
   "cell_type": "markdown",
   "id": "8406db83-d9ec-4af4-9efd-669e41c2f79e",
   "metadata": {},
   "source": [
    "***\n",
    "***\n",
    "## **9. User-User Similarity Matrix (Cosine Similarity).**"
   ]
  },
  {
   "cell_type": "code",
   "execution_count": 24,
   "id": "88330e0c-f9f9-46d5-8d2c-6dd3ec00c94e",
   "metadata": {},
   "outputs": [
    {
     "data": {
      "text/html": [
       "<div>\n",
       "<style scoped>\n",
       "    .dataframe tbody tr th:only-of-type {\n",
       "        vertical-align: middle;\n",
       "    }\n",
       "\n",
       "    .dataframe tbody tr th {\n",
       "        vertical-align: top;\n",
       "    }\n",
       "\n",
       "    .dataframe thead th {\n",
       "        text-align: right;\n",
       "    }\n",
       "</style>\n",
       "<table border=\"1\" class=\"dataframe\">\n",
       "  <thead>\n",
       "    <tr style=\"text-align: right;\">\n",
       "      <th>UserID</th>\n",
       "      <th>1</th>\n",
       "      <th>2</th>\n",
       "      <th>3</th>\n",
       "      <th>4</th>\n",
       "      <th>5</th>\n",
       "      <th>6</th>\n",
       "      <th>7</th>\n",
       "      <th>8</th>\n",
       "      <th>9</th>\n",
       "      <th>10</th>\n",
       "      <th>...</th>\n",
       "      <th>6031</th>\n",
       "      <th>6032</th>\n",
       "      <th>6033</th>\n",
       "      <th>6034</th>\n",
       "      <th>6035</th>\n",
       "      <th>6036</th>\n",
       "      <th>6037</th>\n",
       "      <th>6038</th>\n",
       "      <th>6039</th>\n",
       "      <th>6040</th>\n",
       "    </tr>\n",
       "    <tr>\n",
       "      <th>UserID</th>\n",
       "      <th></th>\n",
       "      <th></th>\n",
       "      <th></th>\n",
       "      <th></th>\n",
       "      <th></th>\n",
       "      <th></th>\n",
       "      <th></th>\n",
       "      <th></th>\n",
       "      <th></th>\n",
       "      <th></th>\n",
       "      <th></th>\n",
       "      <th></th>\n",
       "      <th></th>\n",
       "      <th></th>\n",
       "      <th></th>\n",
       "      <th></th>\n",
       "      <th></th>\n",
       "      <th></th>\n",
       "      <th></th>\n",
       "      <th></th>\n",
       "      <th></th>\n",
       "    </tr>\n",
       "  </thead>\n",
       "  <tbody>\n",
       "    <tr>\n",
       "      <th>1</th>\n",
       "      <td>1.000000</td>\n",
       "      <td>0.096382</td>\n",
       "      <td>0.120610</td>\n",
       "      <td>0.132455</td>\n",
       "      <td>0.090158</td>\n",
       "      <td>0.179222</td>\n",
       "      <td>0.059678</td>\n",
       "      <td>0.138241</td>\n",
       "      <td>0.226148</td>\n",
       "      <td>0.254736</td>\n",
       "      <td>...</td>\n",
       "      <td>0.170588</td>\n",
       "      <td>0.082006</td>\n",
       "      <td>0.090961</td>\n",
       "      <td>0.033663</td>\n",
       "      <td>0.114877</td>\n",
       "      <td>0.186957</td>\n",
       "      <td>0.136233</td>\n",
       "      <td>0.000000</td>\n",
       "      <td>0.174604</td>\n",
       "      <td>0.133590</td>\n",
       "    </tr>\n",
       "    <tr>\n",
       "      <th>2</th>\n",
       "      <td>0.096382</td>\n",
       "      <td>1.000000</td>\n",
       "      <td>0.151479</td>\n",
       "      <td>0.171176</td>\n",
       "      <td>0.114394</td>\n",
       "      <td>0.100865</td>\n",
       "      <td>0.305787</td>\n",
       "      <td>0.211120</td>\n",
       "      <td>0.190198</td>\n",
       "      <td>0.227745</td>\n",
       "      <td>...</td>\n",
       "      <td>0.112503</td>\n",
       "      <td>0.091222</td>\n",
       "      <td>0.268565</td>\n",
       "      <td>0.014286</td>\n",
       "      <td>0.183384</td>\n",
       "      <td>0.229011</td>\n",
       "      <td>0.206660</td>\n",
       "      <td>0.066118</td>\n",
       "      <td>0.066457</td>\n",
       "      <td>0.218276</td>\n",
       "    </tr>\n",
       "    <tr>\n",
       "      <th>3</th>\n",
       "      <td>0.120610</td>\n",
       "      <td>0.151479</td>\n",
       "      <td>1.000000</td>\n",
       "      <td>0.151227</td>\n",
       "      <td>0.062907</td>\n",
       "      <td>0.074603</td>\n",
       "      <td>0.138332</td>\n",
       "      <td>0.077656</td>\n",
       "      <td>0.126457</td>\n",
       "      <td>0.214487</td>\n",
       "      <td>...</td>\n",
       "      <td>0.092960</td>\n",
       "      <td>0.125864</td>\n",
       "      <td>0.161507</td>\n",
       "      <td>0.000000</td>\n",
       "      <td>0.097308</td>\n",
       "      <td>0.143747</td>\n",
       "      <td>0.107945</td>\n",
       "      <td>0.120234</td>\n",
       "      <td>0.094675</td>\n",
       "      <td>0.133144</td>\n",
       "    </tr>\n",
       "    <tr>\n",
       "      <th>4</th>\n",
       "      <td>0.132455</td>\n",
       "      <td>0.171176</td>\n",
       "      <td>0.151227</td>\n",
       "      <td>1.000000</td>\n",
       "      <td>0.045094</td>\n",
       "      <td>0.013529</td>\n",
       "      <td>0.130339</td>\n",
       "      <td>0.100856</td>\n",
       "      <td>0.093651</td>\n",
       "      <td>0.121208</td>\n",
       "      <td>...</td>\n",
       "      <td>0.163629</td>\n",
       "      <td>0.093041</td>\n",
       "      <td>0.382803</td>\n",
       "      <td>0.000000</td>\n",
       "      <td>0.082097</td>\n",
       "      <td>0.171158</td>\n",
       "      <td>0.127703</td>\n",
       "      <td>0.062907</td>\n",
       "      <td>0.064634</td>\n",
       "      <td>0.137968</td>\n",
       "    </tr>\n",
       "    <tr>\n",
       "      <th>5</th>\n",
       "      <td>0.090158</td>\n",
       "      <td>0.114394</td>\n",
       "      <td>0.062907</td>\n",
       "      <td>0.045094</td>\n",
       "      <td>1.000000</td>\n",
       "      <td>0.047449</td>\n",
       "      <td>0.126257</td>\n",
       "      <td>0.220817</td>\n",
       "      <td>0.261330</td>\n",
       "      <td>0.117508</td>\n",
       "      <td>...</td>\n",
       "      <td>0.100652</td>\n",
       "      <td>0.035732</td>\n",
       "      <td>0.065278</td>\n",
       "      <td>0.054151</td>\n",
       "      <td>0.179083</td>\n",
       "      <td>0.294354</td>\n",
       "      <td>0.173009</td>\n",
       "      <td>0.020459</td>\n",
       "      <td>0.027689</td>\n",
       "      <td>0.241437</td>\n",
       "    </tr>\n",
       "  </tbody>\n",
       "</table>\n",
       "<p>5 rows × 6040 columns</p>\n",
       "</div>"
      ],
      "text/plain": [
       "UserID      1         2         3         4         5         6         7     \\\n",
       "UserID                                                                         \n",
       "1       1.000000  0.096382  0.120610  0.132455  0.090158  0.179222  0.059678   \n",
       "2       0.096382  1.000000  0.151479  0.171176  0.114394  0.100865  0.305787   \n",
       "3       0.120610  0.151479  1.000000  0.151227  0.062907  0.074603  0.138332   \n",
       "4       0.132455  0.171176  0.151227  1.000000  0.045094  0.013529  0.130339   \n",
       "5       0.090158  0.114394  0.062907  0.045094  1.000000  0.047449  0.126257   \n",
       "\n",
       "UserID      8         9         10    ...      6031      6032      6033  \\\n",
       "UserID                                ...                                 \n",
       "1       0.138241  0.226148  0.254736  ...  0.170588  0.082006  0.090961   \n",
       "2       0.211120  0.190198  0.227745  ...  0.112503  0.091222  0.268565   \n",
       "3       0.077656  0.126457  0.214487  ...  0.092960  0.125864  0.161507   \n",
       "4       0.100856  0.093651  0.121208  ...  0.163629  0.093041  0.382803   \n",
       "5       0.220817  0.261330  0.117508  ...  0.100652  0.035732  0.065278   \n",
       "\n",
       "UserID      6034      6035      6036      6037      6038      6039      6040  \n",
       "UserID                                                                        \n",
       "1       0.033663  0.114877  0.186957  0.136233  0.000000  0.174604  0.133590  \n",
       "2       0.014286  0.183384  0.229011  0.206660  0.066118  0.066457  0.218276  \n",
       "3       0.000000  0.097308  0.143747  0.107945  0.120234  0.094675  0.133144  \n",
       "4       0.000000  0.082097  0.171158  0.127703  0.062907  0.064634  0.137968  \n",
       "5       0.054151  0.179083  0.294354  0.173009  0.020459  0.027689  0.241437  \n",
       "\n",
       "[5 rows x 6040 columns]"
      ]
     },
     "execution_count": 24,
     "metadata": {},
     "output_type": "execute_result"
    }
   ],
   "source": [
    "# compute user similarity matrix\n",
    "user_user_similarity = cosine_similarity(df_pivoted)\n",
    "user_user_similarity_df = pd.DataFrame(user_user_similarity, index=df_pivoted.index, columns=df_pivoted.index)\n",
    "user_user_similarity_df.head()"
   ]
  },
  {
   "cell_type": "markdown",
   "id": "d5483d13-e81d-4216-a645-e993cb945e5c",
   "metadata": {},
   "source": [
    "***\n",
    "***\n",
    "## **10. Similarity Based Recommender (User Input).**"
   ]
  },
  {
   "cell_type": "code",
   "execution_count": 25,
   "id": "bc9487e3-51a6-45d4-a95b-bb6435031465",
   "metadata": {},
   "outputs": [],
   "source": [
    "def simple_recommender_cosine_user_input(user_id, df_pivoted, item_item_similarity_df, top_n=5):\n",
    "    user_ratings = df_pivoted.loc[user_id, :]\n",
    "    rated_items = user_ratings[user_ratings!=0.0].index\n",
    "    unrated_items = user_ratings[user_ratings==0.0].index\n",
    "    item_scores = item_item_similarity_df.loc[unrated_items, rated_items].dot(user_ratings[rated_items])\n",
    "    top_items = item_scores.sort_values(ascending=False).head(top_n).index\n",
    "    return pd.Series(top_items)"
   ]
  },
  {
   "cell_type": "code",
   "execution_count": 26,
   "id": "052869b5-7940-4dcb-8434-a3bb4e781211",
   "metadata": {},
   "outputs": [
    {
     "data": {
      "text/plain": [
       "0             Batman\n",
       "1           Die Hard\n",
       "2    Terminator, The\n",
       "3        Matrix, The\n",
       "4      Lethal Weapon\n",
       "Name: Title, dtype: object"
      ]
     },
     "execution_count": 26,
     "metadata": {},
     "output_type": "execute_result"
    }
   ],
   "source": [
    "simple_recommender_cosine_user_input(3, df_pivoted, item_item_similarity_df)"
   ]
  },
  {
   "cell_type": "code",
   "execution_count": 27,
   "id": "7cebba45-1e18-48b2-9060-3f5e6ac4db92",
   "metadata": {},
   "outputs": [
    {
     "data": {
      "text/plain": [
       "0         Romancing the Stone\n",
       "1       Good Morning, Vietnam\n",
       "2    Who Framed Roger Rabbit?\n",
       "3                    Die Hard\n",
       "4                Total Recall\n",
       "Name: Title, dtype: object"
      ]
     },
     "execution_count": 27,
     "metadata": {},
     "output_type": "execute_result"
    }
   ],
   "source": [
    "simple_recommender_cosine_user_input(10, df_pivoted, item_item_similarity_df)"
   ]
  },
  {
   "cell_type": "markdown",
   "id": "ddd40cd1-07cb-4887-9970-72f6ff41c5d8",
   "metadata": {},
   "source": [
    "***\n",
    "***\n",
    "## **10. Similarity Based Recommender (Item Input).**"
   ]
  },
  {
   "cell_type": "code",
   "execution_count": 28,
   "id": "a3869b10-6692-4d92-a13c-151530956e92",
   "metadata": {},
   "outputs": [],
   "source": [
    "def simple_recommender_cosine_item_input(input_movie_title, item_item_similarity_df, top_n=5):\n",
    "    return pd.Series(item_item_similarity_df[input_movie_title].sort_values(ascending=False)[1:1+top_n].index)"
   ]
  },
  {
   "cell_type": "code",
   "execution_count": 29,
   "id": "a466a2ec-9e75-4ff6-9d54-0196400b2975",
   "metadata": {},
   "outputs": [
    {
     "data": {
      "text/plain": [
       "0           Toy Story 2\n",
       "1         Groundhog Day\n",
       "2               Aladdin\n",
       "3         Bug's Life, A\n",
       "4    Back to the Future\n",
       "Name: Title, dtype: object"
      ]
     },
     "execution_count": 29,
     "metadata": {},
     "output_type": "execute_result"
    }
   ],
   "source": [
    "simple_recommender_cosine_item_input('Toy Story', item_item_similarity_df)"
   ]
  },
  {
   "cell_type": "code",
   "execution_count": 30,
   "id": "b64db195-8339-4908-9ef0-b84842e69de4",
   "metadata": {},
   "outputs": [
    {
     "data": {
      "text/plain": [
       "0         Groundhog Day\n",
       "1    As Good As It Gets\n",
       "2                 Ghost\n",
       "3             Toy Story\n",
       "4          Men in Black\n",
       "Name: Title, dtype: object"
      ]
     },
     "execution_count": 30,
     "metadata": {},
     "output_type": "execute_result"
    }
   ],
   "source": [
    "simple_recommender_cosine_item_input('Forrest Gump', item_item_similarity_df)"
   ]
  },
  {
   "cell_type": "markdown",
   "id": "042e7f46-8404-4f37-ad35-2d97a694083c",
   "metadata": {},
   "source": [
    "***\n",
    "***\n",
    "## **11. KNN Based Recommender (User Input).**"
   ]
  },
  {
   "cell_type": "code",
   "execution_count": 31,
   "id": "c5178aa6-b82f-4336-97b2-11a226c136e2",
   "metadata": {},
   "outputs": [],
   "source": [
    "def simple_recommender_knn_user_input(user_id, df_pivoted, item_item_similarity_df, k=5):\n",
    "    k = 5 # number of neighbors to consider\n",
    "    nn_model = NearestNeighbors(n_neighbors=k, metric='cosine')\n",
    "    nn_model.fit(df_pivoted.T)\n",
    "    user_ratings = df_pivoted.loc[user_id]\n",
    "    rated_items = user_ratings[user_ratings!=0.0].index\n",
    "    unrated_items = user_ratings[user_ratings==0.0].index\n",
    "    _, item_indices = nn_model.kneighbors(df_pivoted.T.loc[rated_items].values)\n",
    "    similar_items = item_indices.flatten()\n",
    "    similar_unrated_items = np.intersect1d(df_pivoted.T.iloc[similar_items].index, unrated_items)\n",
    "    item_scores = item_item_similarity_df.loc[similar_unrated_items, :].loc[:, rated_items].dot(user_ratings.loc[rated_items])\n",
    "    item_scores /= item_item_similarity_df.loc[similar_unrated_items, :].loc[:, rated_items].sum(axis=1)\n",
    "    item_scores = pd.DataFrame(item_scores, index=similar_unrated_items, columns=['score'])\n",
    "    item_scores = item_scores.sort_values(by='score', ascending=False).head(5)\n",
    "    recommended_items = item_scores.index.tolist()\n",
    "    return pd.Series(recommended_items)"
   ]
  },
  {
   "cell_type": "code",
   "execution_count": 32,
   "id": "0e61cc97-2062-4b61-85d9-5e1c52c89ae8",
   "metadata": {},
   "outputs": [
    {
     "data": {
      "text/plain": [
       "0    Deer Hunter, The\n",
       "1           Tombstone\n",
       "2          Sting, The\n",
       "3             M*A*S*H\n",
       "4    Bonnie and Clyde\n",
       "dtype: object"
      ]
     },
     "execution_count": 32,
     "metadata": {},
     "output_type": "execute_result"
    }
   ],
   "source": [
    "simple_recommender_knn_user_input(3, df_pivoted, item_item_similarity_df)"
   ]
  },
  {
   "cell_type": "code",
   "execution_count": 33,
   "id": "6f649ff1-1f11-4565-aece-bc128d3f3738",
   "metadata": {},
   "outputs": [
    {
     "data": {
      "text/plain": [
       "0    Slappy and the Stinkers\n",
       "1               Little Women\n",
       "2          Circle of Friends\n",
       "3         Little Princess, A\n",
       "4                 Funny Face\n",
       "dtype: object"
      ]
     },
     "execution_count": 33,
     "metadata": {},
     "output_type": "execute_result"
    }
   ],
   "source": [
    "simple_recommender_knn_user_input(10, df_pivoted, item_item_similarity_df)"
   ]
  },
  {
   "cell_type": "markdown",
   "id": "f47a2b80-cb13-4aec-9062-7e66527388d8",
   "metadata": {},
   "source": [
    "***\n",
    "***\n",
    "## **12. KNN Based Recommender (Item Input).**"
   ]
  },
  {
   "cell_type": "code",
   "execution_count": 34,
   "id": "37dbe9df-9b08-4090-a96f-130d5fc3dae2",
   "metadata": {},
   "outputs": [],
   "source": [
    "def simple_recommender_knn_item_input(input_movie_title, df_pivoted, item_item_similarity_df, k=5):\n",
    "    k = 5 # number of neighbors to consider\n",
    "    nn_model = NearestNeighbors(n_neighbors=k+1, metric='cosine')\n",
    "    nn_model.fit(df_pivoted.T)\n",
    "    _, item_indices = nn_model.kneighbors(np.array(df_pivoted.T.loc[input_movie_title]).reshape(1, -1))\n",
    "    similar_items = item_indices.flatten()\n",
    "    return pd.Series(df_pivoted.T.iloc[similar_items].index[1:])"
   ]
  },
  {
   "cell_type": "code",
   "execution_count": 35,
   "id": "55cd56b3-cf59-44aa-a6d5-93783cd41e92",
   "metadata": {},
   "outputs": [
    {
     "data": {
      "text/plain": [
       "0           Toy Story 2\n",
       "1         Groundhog Day\n",
       "2               Aladdin\n",
       "3         Bug's Life, A\n",
       "4    Back to the Future\n",
       "Name: Title, dtype: object"
      ]
     },
     "execution_count": 35,
     "metadata": {},
     "output_type": "execute_result"
    }
   ],
   "source": [
    "simple_recommender_knn_item_input('Toy Story', df_pivoted, item_item_similarity_df)"
   ]
  },
  {
   "cell_type": "code",
   "execution_count": 36,
   "id": "df890e4c-b6c9-45bb-96e0-8dc7dfbcd0bc",
   "metadata": {},
   "outputs": [
    {
     "data": {
      "text/plain": [
       "0         Groundhog Day\n",
       "1    As Good As It Gets\n",
       "2                 Ghost\n",
       "3             Toy Story\n",
       "4          Men in Black\n",
       "Name: Title, dtype: object"
      ]
     },
     "execution_count": 36,
     "metadata": {},
     "output_type": "execute_result"
    }
   ],
   "source": [
    "simple_recommender_knn_item_input('Forrest Gump', df_pivoted, item_item_similarity_df)"
   ]
  },
  {
   "cell_type": "markdown",
   "id": "3d3a2289-7181-457d-9ac5-8d1cefea248c",
   "metadata": {},
   "source": [
    "***\n",
    "***\n",
    "## **13. Matrix Factorisation - CMFREC (with train-test split).**"
   ]
  },
  {
   "cell_type": "code",
   "execution_count": 37,
   "id": "93008cfb-3ffe-4570-8895-ba2bed5fab7a",
   "metadata": {},
   "outputs": [
    {
     "name": "stdout",
     "output_type": "stream",
     "text": [
      "Starting ALS optimization routine\n",
      "\n",
      "Updating B ... done\n",
      "Updating A ... done\n",
      "\tCompleted ALS iteration  1\n",
      "\n",
      "Updating B ... done\n",
      "Updating A ... done\n",
      "\tCompleted ALS iteration  2\n",
      "\n",
      "Updating B ... done\n",
      "Updating A ... done\n",
      "\tCompleted ALS iteration  3\n",
      "\n",
      "Updating B ... done\n",
      "Updating A ... done\n",
      "\tCompleted ALS iteration  4\n",
      "\n",
      "Updating B ... done\n",
      "Updating A ... done\n",
      "\tCompleted ALS iteration  5\n",
      "\n",
      "Updating B ... done\n",
      "Updating A ... done\n",
      "\tCompleted ALS iteration  6\n",
      "\n",
      "Updating B ... done\n",
      "Updating A ... done\n",
      "\tCompleted ALS iteration  7\n",
      "\n",
      "Updating B ... done\n",
      "Updating A ... done\n",
      "\tCompleted ALS iteration  8\n",
      "\n",
      "Updating B ... done\n",
      "Updating A ... done\n",
      "\tCompleted ALS iteration  9\n",
      "\n",
      "Updating B ... done\n",
      "Updating A ... done\n",
      "\tCompleted ALS iteration 10\n",
      "\n",
      "ALS procedure terminated successfully\n"
     ]
    },
    {
     "data": {
      "text/plain": [
       "Collective matrix factorization model\n",
       "(explicit-feedback variant)\n"
      ]
     },
     "execution_count": 37,
     "metadata": {},
     "output_type": "execute_result"
    }
   ],
   "source": [
    "reader = Reader(rating_scale=(1, 5))\n",
    "data = Dataset.load_from_df(df[['UserID', 'MovieID', 'Rating']], reader)\n",
    "\n",
    "trainset, testset = train_test_split(data, test_size=0.3)\n",
    "trainset_df = pd.DataFrame(trainset.build_testset(), columns=['UserId', 'ItemId', 'Rating'])\n",
    "\n",
    "model = cmfrec.CMF(k=4)\n",
    "model.fit(trainset_df)"
   ]
  },
  {
   "cell_type": "markdown",
   "id": "c0809720-a298-4e23-a643-5e9b497b3d91",
   "metadata": {},
   "source": [
    "***\n",
    "***\n",
    "## **14. Matrix Factorisation - CMFREC - Performance Metrics.**"
   ]
  },
  {
   "cell_type": "code",
   "execution_count": 38,
   "id": "17f36f09-a421-4f35-bdf8-69884d272449",
   "metadata": {},
   "outputs": [
    {
     "name": "stdout",
     "output_type": "stream",
     "text": [
      "RMSE: 0.8642439395351863\n",
      "MAPE: 0.2639890569551386\n",
      "sMAPE: 0.05368942686290901\n"
     ]
    }
   ],
   "source": [
    "predictions = model.predict([test[0] for test in testset], [test[1] for test in testset])\n",
    "true_ratings = [r for (_, _, r) in testset]\n",
    "\n",
    "rmse = np.sqrt(mse(true_ratings, predictions))\n",
    "mape = np.mean(np.abs(true_ratings - predictions) / true_ratings)\n",
    "smape = np.mean(np.abs(true_ratings - predictions) / np.abs(true_ratings + predictions)/2)\n",
    "\n",
    "print(\"RMSE:\", rmse)\n",
    "print(\"MAPE:\", mape)\n",
    "print(\"sMAPE:\", smape)"
   ]
  },
  {
   "cell_type": "markdown",
   "id": "bea6b424-d5f4-4cac-91d9-a1751087d7fe",
   "metadata": {},
   "source": [
    "***\n",
    "***\n",
    "## **15. Matrix Factorisation - Surprise Library (d=4).**"
   ]
  },
  {
   "cell_type": "code",
   "execution_count": 39,
   "id": "57f1a3b1-502d-4d01-8c07-e1a79c116bda",
   "metadata": {},
   "outputs": [],
   "source": [
    "# Load the ratings data into the Surprise dataset format\n",
    "data = Dataset.load_from_df(df[['UserID', 'MovieID', 'Rating']], reader)\n",
    "\n",
    "# Split the data into training and testing sets\n",
    "trainset = data.build_full_trainset()\n",
    "\n",
    "# Train the SVD algorithm with d=4\n",
    "model = SVD(n_factors=4)\n",
    "model.fit(trainset)\n",
    "\n",
    "# Extract the item and user embeddings\n",
    "item_embeddings = model.qi\n",
    "user_embeddings = model.pu\n",
    "\n",
    "# Compute the item-item and user-user similarity using cosine similarity\n",
    "item_item_sim_matrix = cosine_similarity(item_embeddings)\n",
    "item_item_sim_df = pd.DataFrame(item_item_sim_matrix, columns=trainset.ir, index=trainset.ir)\n",
    "item_item_sim_df.index.name = 'movieId_1'\n",
    "item_item_sim_df = item_item_sim_df.reset_index().melt(id_vars=['movieId_1'], var_name='movieId_2', value_name='similarity')\n",
    "\n",
    "user_user_sim_matrix = cosine_similarity(user_embeddings)\n",
    "user_user_sim_df = pd.DataFrame(user_user_sim_matrix, columns=trainset.ur, index=trainset.ur)\n",
    "user_user_sim_df.index.name = 'userId_1'\n",
    "user_user_sim_df = user_user_sim_df.reset_index().melt(id_vars=['userId_1'], var_name='userId_2', value_name='similarity')"
   ]
  },
  {
   "cell_type": "code",
   "execution_count": 40,
   "id": "1524726e-9be2-467d-b781-6543736bc22c",
   "metadata": {},
   "outputs": [
    {
     "data": {
      "text/html": [
       "<div>\n",
       "<style scoped>\n",
       "    .dataframe tbody tr th:only-of-type {\n",
       "        vertical-align: middle;\n",
       "    }\n",
       "\n",
       "    .dataframe tbody tr th {\n",
       "        vertical-align: top;\n",
       "    }\n",
       "\n",
       "    .dataframe thead th {\n",
       "        text-align: right;\n",
       "    }\n",
       "</style>\n",
       "<table border=\"1\" class=\"dataframe\">\n",
       "  <thead>\n",
       "    <tr style=\"text-align: right;\">\n",
       "      <th></th>\n",
       "      <th>movieId_1</th>\n",
       "      <th>movieId_2</th>\n",
       "      <th>similarity</th>\n",
       "    </tr>\n",
       "  </thead>\n",
       "  <tbody>\n",
       "    <tr>\n",
       "      <th>0</th>\n",
       "      <td>0</td>\n",
       "      <td>0</td>\n",
       "      <td>1.000000</td>\n",
       "    </tr>\n",
       "    <tr>\n",
       "      <th>1</th>\n",
       "      <td>1</td>\n",
       "      <td>0</td>\n",
       "      <td>0.990992</td>\n",
       "    </tr>\n",
       "    <tr>\n",
       "      <th>2</th>\n",
       "      <td>2</td>\n",
       "      <td>0</td>\n",
       "      <td>-0.140769</td>\n",
       "    </tr>\n",
       "    <tr>\n",
       "      <th>3</th>\n",
       "      <td>3</td>\n",
       "      <td>0</td>\n",
       "      <td>-0.446698</td>\n",
       "    </tr>\n",
       "    <tr>\n",
       "      <th>4</th>\n",
       "      <td>4</td>\n",
       "      <td>0</td>\n",
       "      <td>0.547606</td>\n",
       "    </tr>\n",
       "  </tbody>\n",
       "</table>\n",
       "</div>"
      ],
      "text/plain": [
       "   movieId_1 movieId_2  similarity\n",
       "0          0         0    1.000000\n",
       "1          1         0    0.990992\n",
       "2          2         0   -0.140769\n",
       "3          3         0   -0.446698\n",
       "4          4         0    0.547606"
      ]
     },
     "execution_count": 40,
     "metadata": {},
     "output_type": "execute_result"
    }
   ],
   "source": [
    "item_item_sim_df.head()"
   ]
  },
  {
   "cell_type": "code",
   "execution_count": 41,
   "id": "6ccf427f-06c3-4a81-8b01-61df2addd373",
   "metadata": {},
   "outputs": [
    {
     "data": {
      "text/html": [
       "<div>\n",
       "<style scoped>\n",
       "    .dataframe tbody tr th:only-of-type {\n",
       "        vertical-align: middle;\n",
       "    }\n",
       "\n",
       "    .dataframe tbody tr th {\n",
       "        vertical-align: top;\n",
       "    }\n",
       "\n",
       "    .dataframe thead th {\n",
       "        text-align: right;\n",
       "    }\n",
       "</style>\n",
       "<table border=\"1\" class=\"dataframe\">\n",
       "  <thead>\n",
       "    <tr style=\"text-align: right;\">\n",
       "      <th></th>\n",
       "      <th>userId_1</th>\n",
       "      <th>userId_2</th>\n",
       "      <th>similarity</th>\n",
       "    </tr>\n",
       "  </thead>\n",
       "  <tbody>\n",
       "    <tr>\n",
       "      <th>0</th>\n",
       "      <td>0</td>\n",
       "      <td>0</td>\n",
       "      <td>1.000000</td>\n",
       "    </tr>\n",
       "    <tr>\n",
       "      <th>1</th>\n",
       "      <td>1</td>\n",
       "      <td>0</td>\n",
       "      <td>0.646017</td>\n",
       "    </tr>\n",
       "    <tr>\n",
       "      <th>2</th>\n",
       "      <td>2</td>\n",
       "      <td>0</td>\n",
       "      <td>-0.516870</td>\n",
       "    </tr>\n",
       "    <tr>\n",
       "      <th>3</th>\n",
       "      <td>3</td>\n",
       "      <td>0</td>\n",
       "      <td>0.911072</td>\n",
       "    </tr>\n",
       "    <tr>\n",
       "      <th>4</th>\n",
       "      <td>4</td>\n",
       "      <td>0</td>\n",
       "      <td>-0.982408</td>\n",
       "    </tr>\n",
       "  </tbody>\n",
       "</table>\n",
       "</div>"
      ],
      "text/plain": [
       "   userId_1 userId_2  similarity\n",
       "0         0        0    1.000000\n",
       "1         1        0    0.646017\n",
       "2         2        0   -0.516870\n",
       "3         3        0    0.911072\n",
       "4         4        0   -0.982408"
      ]
     },
     "execution_count": 41,
     "metadata": {},
     "output_type": "execute_result"
    }
   ],
   "source": [
    "user_user_sim_df.head()"
   ]
  },
  {
   "cell_type": "markdown",
   "id": "55180f0a-9c5b-4709-850e-ebd2c2dc428a",
   "metadata": {},
   "source": [
    "***\n",
    "***\n",
    "## **16. Recommender based upon Surprise Library (Item Input).**"
   ]
  },
  {
   "cell_type": "code",
   "execution_count": 42,
   "id": "510ddc21-43bc-4a31-a66b-61f6e05dd187",
   "metadata": {},
   "outputs": [],
   "source": [
    "def simple_recommender_mf_item_input(input_movie_title, item_item_sim_df, top_n=5):\n",
    "    movie_id = df[df['Title']==input_movie_title]['MovieID'].iloc[0]\n",
    "    movie_ids = item_item_sim_df[item_item_sim_df['movieId_1'] == movie_id].sort_values(by='similarity', ascending=False)[1:6]['movieId_2']\n",
    "    return pd.Series(df[df['MovieID'].isin(movie_ids)]['Title'].unique())"
   ]
  },
  {
   "cell_type": "code",
   "execution_count": 43,
   "id": "9aadc81e-c597-442a-a870-cd0c67a3a2cc",
   "metadata": {},
   "outputs": [
    {
     "data": {
      "text/plain": [
       "0             Heavy Metal\n",
       "1                Bad Boys\n",
       "2               Hairspray\n",
       "3    Horse Whisperer, The\n",
       "dtype: object"
      ]
     },
     "execution_count": 43,
     "metadata": {},
     "output_type": "execute_result"
    }
   ],
   "source": [
    "simple_recommender_mf_item_input('Toy Story', item_item_sim_df)"
   ]
  },
  {
   "cell_type": "code",
   "execution_count": 44,
   "id": "6bddca7b-bcb5-48f7-9766-e7d571fabb7a",
   "metadata": {},
   "outputs": [
    {
     "data": {
      "text/plain": [
       "0     Friday the 13th\n",
       "1    Winslow Boy, The\n",
       "2             Timecop\n",
       "3              Nadine\n",
       "4          Dear Jesse\n",
       "dtype: object"
      ]
     },
     "execution_count": 44,
     "metadata": {},
     "output_type": "execute_result"
    }
   ],
   "source": [
    "simple_recommender_mf_item_input('Forrest Gump', item_item_sim_df)"
   ]
  },
  {
   "cell_type": "markdown",
   "id": "93ce0feb-ea7a-4ae2-8b95-1db5e478a51e",
   "metadata": {},
   "source": [
    "***\n",
    "***\n",
    "## **17. User and Item Embeddings (d=4).**"
   ]
  },
  {
   "cell_type": "code",
   "execution_count": 45,
   "id": "288332e5-8bf8-4299-a2da-48ab632115ce",
   "metadata": {},
   "outputs": [
    {
     "data": {
      "image/png": "[encoded data removed]",
      "text/plain": [
       "<Figure size 432x288 with 1 Axes>"
      ]
     },
     "metadata": {
      "needs_background": "light"
     },
     "output_type": "display_data"
    }
   ],
   "source": [
    "plt.scatter(item_embeddings[:, 0], item_embeddings[:, 1])\n",
    "plt.xlabel('Embedding dimension 1')\n",
    "plt.ylabel('Embedding dimension 2')\n",
    "plt.title('Item Embeddings (d=4)')\n",
    "plt.show()"
   ]
  },
  {
   "cell_type": "code",
   "execution_count": 46,
   "id": "fbc1d9d8-b5cb-41ab-ba21-9574fbd171da",
   "metadata": {},
   "outputs": [
    {
     "data": {
      "image/png": "[encoded data removed]",
      "text/plain": [
       "<Figure size 432x288 with 1 Axes>"
      ]
     },
     "metadata": {
      "needs_background": "light"
     },
     "output_type": "display_data"
    }
   ],
   "source": [
    "plt.scatter(user_embeddings[:, 0], user_embeddings[:, 1])\n",
    "plt.xlabel('Embedding dimension 1')\n",
    "plt.ylabel('Embedding dimension 2')\n",
    "plt.title('User Embeddings (d=4)')\n",
    "plt.show()"
   ]
  },
  {
   "cell_type": "markdown",
   "id": "6d40d0e9-bb8a-4372-a4b9-193cfe38b5b3",
   "metadata": {},
   "source": [
    "***\n",
    "***\n",
    "## **18. Matrix Factorisation - Surprise Library (d=2).**"
   ]
  },
  {
   "cell_type": "code",
   "execution_count": 47,
   "id": "6d2f90c6-9f4e-45ca-ab1a-d61c8998dfd7",
   "metadata": {},
   "outputs": [],
   "source": [
    "# Load the ratings data into the Surprise dataset format\n",
    "data = Dataset.load_from_df(df[['UserID', 'MovieID', 'Rating']], reader)\n",
    "\n",
    "# Split the data into training and testing sets\n",
    "trainset = data.build_full_trainset()\n",
    "\n",
    "# Train the SVD algorithm with d=2\n",
    "model = SVD(n_factors=2)\n",
    "model.fit(trainset)\n",
    "\n",
    "# Extract the item and user embeddings\n",
    "item_embeddings = model.qi\n",
    "user_embeddings = model.pu\n",
    "\n",
    "# Compute the item-item and user-user similarity using cosine similarity\n",
    "item_item_sim_matrix = cosine_similarity(item_embeddings)\n",
    "item_item_sim_df = pd.DataFrame(item_item_sim_matrix, columns=trainset.ir, index=trainset.ir)\n",
    "item_item_sim_df.index.name = 'movieId_1'\n",
    "item_item_sim_df = item_item_sim_df.reset_index().melt(id_vars=['movieId_1'], var_name='movieId_2', value_name='similarity')\n",
    "\n",
    "user_user_sim_matrix = cosine_similarity(user_embeddings)\n",
    "user_user_sim_df = pd.DataFrame(user_user_sim_matrix, columns=trainset.ur, index=trainset.ur)\n",
    "user_user_sim_df.index.name = 'userId_1'\n",
    "user_user_sim_df = user_user_sim_df.reset_index().melt(id_vars=['userId_1'], var_name='userId_2', value_name='similarity')"
   ]
  },
  {
   "cell_type": "markdown",
   "id": "10ee259b-a13d-4a2a-8f27-8f3075922e22",
   "metadata": {},
   "source": [
    "***\n",
    "***\n",
    "## **19. Recommender based upon Surprise Library (Item Input).**"
   ]
  },
  {
   "cell_type": "code",
   "execution_count": 48,
   "id": "ee2dc7e4-3580-49b9-9622-cd635ea2acb1",
   "metadata": {},
   "outputs": [
    {
     "data": {
      "text/plain": [
       "0           Indecent Proposal\n",
       "1    Children of the Corn III\n",
       "2              Love and a .45\n",
       "3              Santa Fe Trail\n",
       "4       In the Line of Duty 2\n",
       "dtype: object"
      ]
     },
     "execution_count": 48,
     "metadata": {},
     "output_type": "execute_result"
    }
   ],
   "source": [
    "simple_recommender_mf_item_input('Toy Story', item_item_sim_df)"
   ]
  },
  {
   "cell_type": "code",
   "execution_count": 49,
   "id": "3b5195de-2a22-4822-9613-b02eda68c8d6",
   "metadata": {},
   "outputs": [
    {
     "data": {
      "text/plain": [
       "0    Dark Crystal, The\n",
       "1    Santa Clause, The\n",
       "2      Midnight Cowboy\n",
       "3      King Kong Lives\n",
       "4              Foolish\n",
       "dtype: object"
      ]
     },
     "execution_count": 49,
     "metadata": {},
     "output_type": "execute_result"
    }
   ],
   "source": [
    "simple_recommender_mf_item_input('Forrest Gump', item_item_sim_df)"
   ]
  },
  {
   "cell_type": "markdown",
   "id": "05ca949e-fa5b-4f27-92e6-6414696e8344",
   "metadata": {},
   "source": [
    "***\n",
    "***\n",
    "## **20. User and Item Embeddings (d=2).**"
   ]
  },
  {
   "cell_type": "code",
   "execution_count": 50,
   "id": "70629c37-c8d4-438d-910e-4eabeb4a0f9a",
   "metadata": {},
   "outputs": [
    {
     "data": {
      "image/png": "[encoded data removed]",
      "text/plain": [
       "<Figure size 432x288 with 1 Axes>"
      ]
     },
     "metadata": {
      "needs_background": "light"
     },
     "output_type": "display_data"
    }
   ],
   "source": [
    "plt.scatter(item_embeddings[:, 0], item_embeddings[:, 1])\n",
    "plt.xlabel('Embedding dimension 1')\n",
    "plt.ylabel('Embedding dimension 2')\n",
    "plt.title('Item Embeddings (d=2)')\n",
    "plt.show()"
   ]
  },
  {
   "cell_type": "code",
   "execution_count": 51,
   "id": "1dee3293-41f4-4e15-8ee2-087dcfc20e41",
   "metadata": {},
   "outputs": [
    {
     "data": {
      "image/png": "[encoded data removed]",
      "text/plain": [
       "<Figure size 432x288 with 1 Axes>"
      ]
     },
     "metadata": {
      "needs_background": "light"
     },
     "output_type": "display_data"
    }
   ],
   "source": [
    "plt.scatter(user_embeddings[:, 0], user_embeddings[:, 1])\n",
    "plt.xlabel('Embedding dimension 1')\n",
    "plt.ylabel('Embedding dimension 2')\n",
    "plt.title('User Embeddings (d=2)')\n",
    "plt.show()"
   ]
  },
  {
   "cell_type": "code",
   "execution_count": 52,
   "id": "7ad432e0-e892-4292-8e7f-271ddb907df2",
   "metadata": {},
   "outputs": [
    {
     "data": {
      "image/png": "[encoded data removed]",
      "text/plain": [
       "<Figure size 576x576 with 1 Axes>"
      ]
     },
     "metadata": {
      "needs_background": "light"
     },
     "output_type": "display_data"
    }
   ],
   "source": [
    "# Combine the embeddings and assign indices\n",
    "all_embeddings = np.concatenate([item_embeddings, user_embeddings])\n",
    "index = np.arange(all_embeddings.shape[0])\n",
    "\n",
    "# Compute t-SNE embedding\n",
    "tsne = TSNE(n_components=2, random_state=0)\n",
    "tsne_embeddings = tsne.fit_transform(all_embeddings)\n",
    "\n",
    "# Plot the t-SNE embeddings, with item embeddings in red and user embeddings in blue\n",
    "fig, ax = plt.subplots(figsize=(8, 8))\n",
    "ax.scatter(tsne_embeddings[:item_embeddings.shape[0], 0], tsne_embeddings[:item_embeddings.shape[0], 1], color='red', label='Items')\n",
    "ax.legend()\n",
    "plt.show()"
   ]
  },
  {
   "cell_type": "code",
   "execution_count": 53,
   "id": "108f9d36-c53e-4bea-89b8-bb1569e6ac9e",
   "metadata": {},
   "outputs": [
    {
     "data": {
      "image/png": "[encoded data removed]",
      "text/plain": [
       "<Figure size 576x576 with 1 Axes>"
      ]
     },
     "metadata": {
      "needs_background": "light"
     },
     "output_type": "display_data"
    }
   ],
   "source": [
    "# Plot the t-SNE embeddings, with item embeddings in red and user embeddings in blue\n",
    "fig, ax = plt.subplots(figsize=(8, 8))\n",
    "ax.scatter(tsne_embeddings[item_embeddings.shape[0]:, 0], tsne_embeddings[item_embeddings.shape[0]:, 1], color='blue', label='Users')\n",
    "ax.legend()\n",
    "plt.show()"
   ]
  },
  {
   "cell_type": "markdown",
   "id": "596efed6-c453-4404-a0fb-28939ece1f05",
   "metadata": {},
   "source": [
    "***\n",
    "***\n",
    "## **21. Questionnaire.**"
   ]
  },
  {
   "cell_type": "markdown",
   "id": "fbd10468-7f8d-4470-92c1-d7062e7dc8e5",
   "metadata": {},
   "source": [
    "***\n",
    "### 1. Users of which age group have watched and rated the most number of movies? ###"
   ]
  },
  {
   "cell_type": "code",
   "execution_count": 68,
   "id": "810fe505-2378-4b71-86b3-0dca00566e61",
   "metadata": {},
   "outputs": [
    {
     "data": {
      "text/plain": [
       "[<matplotlib.lines.Line2D at 0x16fd7d679d0>]"
      ]
     },
     "execution_count": 68,
     "metadata": {},
     "output_type": "execute_result"
    },
    {
     "data": {
      "image/png": "[encoded data removed]",
      "text/plain": [
       "<Figure size 432x288 with 1 Axes>"
      ]
     },
     "metadata": {
      "needs_background": "light"
     },
     "output_type": "display_data"
    }
   ],
   "source": [
    "plt.plot(df_ratings.merge(df_users).groupby('Age')['MovieID'].count())"
   ]
  },
  {
   "cell_type": "markdown",
   "id": "3eeac453-6f04-4743-94f2-32452efc4ad5",
   "metadata": {},
   "source": [
    "### Ans. Age group 20-30 ###"
   ]
  },
  {
   "cell_type": "markdown",
   "id": "f50b9762-8c51-4297-a159-fecc38273750",
   "metadata": {},
   "source": [
    "***\n",
    "### 2. Users belonging to which profession have watched and rated the most movies? ###"
   ]
  },
  {
   "cell_type": "code",
   "execution_count": 80,
   "id": "2fcefa4a-7e44-4908-83a3-8e3d84a671a8",
   "metadata": {},
   "outputs": [
    {
     "data": {
      "text/plain": [
       "Occupation\n",
       "college/grad student    131032\n",
       "other                   130499\n",
       "executive/managerial    105425\n",
       "academic/educator        85351\n",
       "technician/engineer      72816\n",
       "Name: MovieID, dtype: int64"
      ]
     },
     "execution_count": 80,
     "metadata": {},
     "output_type": "execute_result"
    }
   ],
   "source": [
    "df_ratings.merge(df_users).groupby('Occupation')['MovieID'].count().sort_values(ascending=False)[:5]"
   ]
  },
  {
   "cell_type": "markdown",
   "id": "683ba98d-5a09-4d5e-bf07-c5a1905c1a59",
   "metadata": {},
   "source": [
    "### Ans. College and Grad students have watched and rated most number of movies. ###"
   ]
  },
  {
   "cell_type": "markdown",
   "id": "992a5714-e2ca-41ad-9a26-650848960f20",
   "metadata": {},
   "source": [
    "***\n",
    "### 3. Most of the users in our dataset who’ve rated the movies are Male. (T/F) ###"
   ]
  },
  {
   "cell_type": "code",
   "execution_count": 81,
   "id": "4432891c-7c9e-46b5-acb7-8135a600da87",
   "metadata": {},
   "outputs": [
    {
     "data": {
      "text/plain": [
       "Gender\n",
       "M    753769\n",
       "F    246440\n",
       "Name: MovieID, dtype: int64"
      ]
     },
     "execution_count": 81,
     "metadata": {},
     "output_type": "execute_result"
    }
   ],
   "source": [
    "df_ratings.merge(df_users).groupby('Gender')['MovieID'].count().sort_values(ascending=False)[:5]"
   ]
  },
  {
   "cell_type": "markdown",
   "id": "b2bb80f4-bea1-4b86-93ca-ea892bb18a5c",
   "metadata": {},
   "source": [
    "### Ans. True. ###"
   ]
  },
  {
   "cell_type": "markdown",
   "id": "16567df9-7564-48f1-8a08-f3d8ede04088",
   "metadata": {},
   "source": [
    "***\n",
    "### 4. Most of the movies present in our dataset were released in which decade? ###"
   ]
  },
  {
   "cell_type": "code",
   "execution_count": 86,
   "id": "18a93120-8941-4a5a-9720-a3147bd21456",
   "metadata": {},
   "outputs": [
    {
     "data": {
      "text/plain": [
       "[<matplotlib.lines.Line2D at 0x16ff0f50040>]"
      ]
     },
     "execution_count": 86,
     "metadata": {},
     "output_type": "execute_result"
    },
    {
     "data": {
      "image/png": "[encoded data removed]",
      "text/plain": [
       "<Figure size 432x288 with 1 Axes>"
      ]
     },
     "metadata": {
      "needs_background": "light"
     },
     "output_type": "display_data"
    }
   ],
   "source": [
    "plt.plot(df_movies.groupby('release_year')['MovieID'].count())"
   ]
  },
  {
   "cell_type": "markdown",
   "id": "1b983a20-506c-476c-aadc-b71de02939c1",
   "metadata": {},
   "source": [
    "### Ans. Decade of 1991-2000. ###"
   ]
  },
  {
   "cell_type": "markdown",
   "id": "3aca9bd8-1f02-4a22-b872-4920ee20e45a",
   "metadata": {},
   "source": [
    "***\n",
    "### 5. The movie with maximum no. of ratings is ___. ###"
   ]
  },
  {
   "cell_type": "code",
   "execution_count": 100,
   "id": "b8a8da7d-a301-4df6-ad28-957b2e391ff6",
   "metadata": {},
   "outputs": [
    {
     "data": {
      "text/plain": [
       "2789    American Beauty\n",
       "Name: Title, dtype: object"
      ]
     },
     "execution_count": 100,
     "metadata": {},
     "output_type": "execute_result"
    }
   ],
   "source": [
    "movie_id = df_ratings.groupby('MovieID')['Rating'].count().sort_values(ascending=False).index[0]\n",
    "df_movies[df_movies['MovieID']==movie_id]['Title']"
   ]
  },
  {
   "cell_type": "markdown",
   "id": "48b0e034-d2eb-457b-bdb7-fd3e3d9e693e",
   "metadata": {},
   "source": [
    "### Ans. American Beauty. ###"
   ]
  },
  {
   "cell_type": "markdown",
   "id": "c61e4265-f5b8-4e68-841c-982b736c1a83",
   "metadata": {},
   "source": [
    "***\n",
    "### 6. Name the top 3 movies similar to ‘Liar Liar’ on the item-based approach. ###"
   ]
  },
  {
   "cell_type": "code",
   "execution_count": 102,
   "id": "b8404491-decc-4204-8477-91c407036dc3",
   "metadata": {},
   "outputs": [
    {
     "data": {
      "text/plain": [
       "0                Mrs. Doubtfire\n",
       "1    Ace Ventura: Pet Detective\n",
       "2                 Dumb & Dumber\n",
       "Name: Title, dtype: object"
      ]
     },
     "execution_count": 102,
     "metadata": {},
     "output_type": "execute_result"
    }
   ],
   "source": [
    "simple_recommender_knn_item_input('Liar Liar', df_pivoted, item_item_similarity_df)[:3]"
   ]
  },
  {
   "cell_type": "markdown",
   "id": "5792cb06-764b-4df6-ac78-1f29dcf0abc1",
   "metadata": {},
   "source": [
    "### 7. On the basis of approach, Collaborative Filtering methods can be classified into ___-based and ___-based. ###"
   ]
  },
  {
   "cell_type": "markdown",
   "id": "87d2a8e2-de56-4363-930f-8ba14160c40c",
   "metadata": {},
   "source": [
    "### Ans: 1. Memory Based (User-User/Item-Item based). 2. Model Based (Matrix Factorisation). ###"
   ]
  },
  {
   "cell_type": "markdown",
   "id": "60da8676-9ee7-4979-9095-4aedba8501de",
   "metadata": {},
   "source": [
    "***\n",
    "### 8. Pearson Correlation ranges between ___ to ___ whereas, Cosine Similarity belongs to the interval between ___ to ___. ###"
   ]
  },
  {
   "cell_type": "markdown",
   "id": "d7164651-9ab1-4ce3-85dd-383a04b99e96",
   "metadata": {},
   "source": [
    "### Ans. Pearson Correlation coefficient ranges between -1 to 1, whereas Cosine Similarity belongs to the interval between 0 to 1. ###"
   ]
  },
  {
   "cell_type": "markdown",
   "id": "2f256a0a-9a0b-4b3f-95ce-02bbe51e7c42",
   "metadata": {},
   "source": [
    "***\n",
    "### 9. Mention the RMSE and MAPE that you got while evaluating the Matrix Factorization model. ###"
   ]
  },
  {
   "cell_type": "markdown",
   "id": "e145e214-fb76-45c3-a1e5-3815bb7c093c",
   "metadata": {},
   "source": [
    "### Ans. ###\n",
    "#### RMSE: 0.8642439395351863 ####\n",
    "#### MAPE: 0.2639890569551386 ####\n",
    "#### sMAPE: 0.05368942686290901 ####"
   ]
  },
  {
   "cell_type": "markdown",
   "id": "40be5361-f47f-47bf-8077-b665e57ac731",
   "metadata": {},
   "source": [
    "***\n",
    "### 10. Give the sparse ‘row’ matrix representation for the following dense matrix - ###\n",
    "#### [[1 0] ####\n",
    "#### [3 7]] ####"
   ]
  },
  {
   "cell_type": "markdown",
   "id": "6c567f72-3454-4400-abf3-d8788e1b1c8d",
   "metadata": {},
   "source": [
    "### Ans. ###\n",
    "#### The sparse 'row' matrix representation (in CSR form) is: ####\n",
    "#### data: [1, 3, 7] ####\n",
    "#### indices: [0, 0, 1] ####\n",
    "#### indptr: [0, 1, 3] ####"
   ]
  },
  {
   "cell_type": "code",
   "execution_count": null,
   "id": "1406ac23-4751-4500-ad2e-24471631876b",
   "metadata": {},
   "outputs": [],
   "source": []
  }
 ],
 "metadata": {
  "kernelspec": {
   "display_name": "Python 3 (ipykernel)",
   "language": "python",
   "name": "python3"
  },
  "language_info": {
   "codemirror_mode": {
    "name": "ipython",
    "version": 3
   },
   "file_extension": ".py",
   "mimetype": "text/x-python",
   "name": "python",
   "nbconvert_exporter": "python",
   "pygments_lexer": "ipython3",
   "version": "3.9.7"
  }
 },
 "nbformat": 4,
 "nbformat_minor": 5
}
